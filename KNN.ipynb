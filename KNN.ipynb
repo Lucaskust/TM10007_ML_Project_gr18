{
 "cells": [
  {
   "cell_type": "code",
   "execution_count": 1,
   "metadata": {},
   "outputs": [
    {
     "name": "stderr",
     "output_type": "stream",
     "text": [
      "<>:14: SyntaxWarning: invalid escape sequence '\\T'\n",
      "<>:14: SyntaxWarning: invalid escape sequence '\\T'\n",
      "C:\\Users\\jelle\\AppData\\Local\\Temp\\ipykernel_11536\\811751989.py:14: SyntaxWarning: invalid escape sequence '\\T'\n",
      "  data = pd.read_excel(\"..\\TrainData.xlsx\")\n"
     ]
    },
    {
     "name": "stdout",
     "output_type": "stream",
     "text": [
      "Vorm van de data: (139, 494)\n",
      "Kolommen: ['PREDICT_original_sf_compactness_avg_2.5D', 'PREDICT_original_sf_compactness_std_2.5D', 'PREDICT_original_sf_rad_dist_avg_2.5D', 'PREDICT_original_sf_rad_dist_std_2.5D', 'PREDICT_original_sf_roughness_avg_2.5D', 'PREDICT_original_sf_roughness_std_2.5D', 'PREDICT_original_sf_convexity_avg_2.5D', 'PREDICT_original_sf_convexity_std_2.5D', 'PREDICT_original_sf_cvar_avg_2.5D', 'PREDICT_original_sf_cvar_std_2.5D', 'PREDICT_original_sf_prax_avg_2.5D', 'PREDICT_original_sf_prax_std_2.5D', 'PREDICT_original_sf_evar_avg_2.5D', 'PREDICT_original_sf_evar_std_2.5D', 'PREDICT_original_sf_solidity_avg_2.5D', 'PREDICT_original_sf_solidity_std_2.5D', 'PREDICT_original_sf_area_avg_2.5D', 'PREDICT_original_sf_area_max_2.5D', 'PREDICT_original_sf_area_min_2.5D', 'PREDICT_original_sf_area_std_2.5D', 'PREDICT_original_sf_volume_2.5D', 'PREDICT_original_of_theta_x', 'PREDICT_original_of_theta_y', 'PREDICT_original_of_theta_z', 'PREDICT_original_hf_min', 'PREDICT_original_hf_max', 'PREDICT_original_hf_mean', 'PREDICT_original_hf_median', 'PREDICT_original_hf_std', 'PREDICT_original_hf_skewness', 'PREDICT_original_hf_kurtosis', 'PREDICT_original_hf_peak', 'PREDICT_original_hf_peak_position', 'PREDICT_original_hf_range', 'PREDICT_original_hf_energy', 'PREDICT_original_hf_quartile_range', 'PREDICT_original_hf_entropy', 'PREDICT_original_logf_min_sigma1', 'PREDICT_original_logf_max_sigma1', 'PREDICT_original_logf_mean_sigma1', 'PREDICT_original_logf_median_sigma1', 'PREDICT_original_logf_std_sigma1', 'PREDICT_original_logf_skewness_sigma1', 'PREDICT_original_logf_kurtosis_sigma1', 'PREDICT_original_logf_peak_sigma1', 'PREDICT_original_logf_peak_position_sigma1', 'PREDICT_original_logf_range_sigma1', 'PREDICT_original_logf_energy_sigma1', 'PREDICT_original_logf_quartile_range_sigma1', 'PREDICT_original_logf_entropy_sigma1', 'PREDICT_original_logf_min_sigma5', 'PREDICT_original_logf_max_sigma5', 'PREDICT_original_logf_mean_sigma5', 'PREDICT_original_logf_median_sigma5', 'PREDICT_original_logf_std_sigma5', 'PREDICT_original_logf_skewness_sigma5', 'PREDICT_original_logf_kurtosis_sigma5', 'PREDICT_original_logf_peak_sigma5', 'PREDICT_original_logf_peak_position_sigma5', 'PREDICT_original_logf_range_sigma5', 'PREDICT_original_logf_energy_sigma5', 'PREDICT_original_logf_quartile_range_sigma5', 'PREDICT_original_logf_entropy_sigma5', 'PREDICT_original_logf_min_sigma10', 'PREDICT_original_logf_max_sigma10', 'PREDICT_original_logf_mean_sigma10', 'PREDICT_original_logf_median_sigma10', 'PREDICT_original_logf_std_sigma10', 'PREDICT_original_logf_skewness_sigma10', 'PREDICT_original_logf_kurtosis_sigma10', 'PREDICT_original_logf_peak_sigma10', 'PREDICT_original_logf_peak_position_sigma10', 'PREDICT_original_logf_range_sigma10', 'PREDICT_original_logf_energy_sigma10', 'PREDICT_original_logf_quartile_range_sigma10', 'PREDICT_original_logf_entropy_sigma10', 'PREDICT_original_tf_LBP_min_R3_P12', 'PREDICT_original_tf_LBP_max_R3_P12', 'PREDICT_original_tf_LBP_mean_R3_P12', 'PREDICT_original_tf_LBP_median_R3_P12', 'PREDICT_original_tf_LBP_std_R3_P12', 'PREDICT_original_tf_LBP_skewness_R3_P12', 'PREDICT_original_tf_LBP_kurtosis_R3_P12', 'PREDICT_original_tf_LBP_peak_R3_P12', 'PREDICT_original_tf_LBP_peak_position_R3_P12', 'PREDICT_original_tf_LBP_range_R3_P12', 'PREDICT_original_tf_LBP_energy_R3_P12', 'PREDICT_original_tf_LBP_quartile_range_R3_P12', 'PREDICT_original_tf_LBP_entropy_R3_P12', 'PREDICT_original_tf_LBP_min_R8_P24', 'PREDICT_original_tf_LBP_max_R8_P24', 'PREDICT_original_tf_LBP_mean_R8_P24', 'PREDICT_original_tf_LBP_median_R8_P24', 'PREDICT_original_tf_LBP_std_R8_P24', 'PREDICT_original_tf_LBP_skewness_R8_P24', 'PREDICT_original_tf_LBP_kurtosis_R8_P24', 'PREDICT_original_tf_LBP_peak_R8_P24', 'PREDICT_original_tf_LBP_peak_position_R8_P24', 'PREDICT_original_tf_LBP_range_R8_P24', 'PREDICT_original_tf_LBP_energy_R8_P24', 'PREDICT_original_tf_LBP_quartile_range_R8_P24', 'PREDICT_original_tf_LBP_entropy_R8_P24', 'PREDICT_original_tf_LBP_min_R15_P36', 'PREDICT_original_tf_LBP_max_R15_P36', 'PREDICT_original_tf_LBP_mean_R15_P36', 'PREDICT_original_tf_LBP_median_R15_P36', 'PREDICT_original_tf_LBP_std_R15_P36', 'PREDICT_original_tf_LBP_skewness_R15_P36', 'PREDICT_original_tf_LBP_kurtosis_R15_P36', 'PREDICT_original_tf_LBP_peak_R15_P36', 'PREDICT_original_tf_LBP_peak_position_R15_P36', 'PREDICT_original_tf_LBP_range_R15_P36', 'PREDICT_original_tf_LBP_energy_R15_P36', 'PREDICT_original_tf_LBP_quartile_range_R15_P36', 'PREDICT_original_tf_LBP_entropy_R15_P36', 'PREDICT_original_tf_GLCM_contrastd1.0A0.0', 'PREDICT_original_tf_GLCM_contrastd1.0A0.79', 'PREDICT_original_tf_GLCM_contrastd1.0A1.57', 'PREDICT_original_tf_GLCM_contrastd1.0A2.36', 'PREDICT_original_tf_GLCM_contrastd3.0A0.0', 'PREDICT_original_tf_GLCM_contrastd3.0A0.79', 'PREDICT_original_tf_GLCM_contrastd3.0A1.57', 'PREDICT_original_tf_GLCM_contrastd3.0A2.36', 'PREDICT_original_tf_GLCM_dissimilarityd1.0A0.0', 'PREDICT_original_tf_GLCM_dissimilarityd1.0A0.79', 'PREDICT_original_tf_GLCM_dissimilarityd1.0A1.57', 'PREDICT_original_tf_GLCM_dissimilarityd1.0A2.36', 'PREDICT_original_tf_GLCM_dissimilarityd3.0A0.0', 'PREDICT_original_tf_GLCM_dissimilarityd3.0A0.79', 'PREDICT_original_tf_GLCM_dissimilarityd3.0A1.57', 'PREDICT_original_tf_GLCM_dissimilarityd3.0A2.36', 'PREDICT_original_tf_GLCM_homogeneityd1.0A0.0', 'PREDICT_original_tf_GLCM_homogeneityd1.0A0.79', 'PREDICT_original_tf_GLCM_homogeneityd1.0A1.57', 'PREDICT_original_tf_GLCM_homogeneityd1.0A2.36', 'PREDICT_original_tf_GLCM_homogeneityd3.0A0.0', 'PREDICT_original_tf_GLCM_homogeneityd3.0A0.79', 'PREDICT_original_tf_GLCM_homogeneityd3.0A1.57', 'PREDICT_original_tf_GLCM_homogeneityd3.0A2.36', 'PREDICT_original_tf_GLCM_ASMd1.0A0.0', 'PREDICT_original_tf_GLCM_ASMd1.0A0.79', 'PREDICT_original_tf_GLCM_ASMd1.0A1.57', 'PREDICT_original_tf_GLCM_ASMd1.0A2.36', 'PREDICT_original_tf_GLCM_ASMd3.0A0.0', 'PREDICT_original_tf_GLCM_ASMd3.0A0.79', 'PREDICT_original_tf_GLCM_ASMd3.0A1.57', 'PREDICT_original_tf_GLCM_ASMd3.0A2.36', 'PREDICT_original_tf_GLCM_energyd1.0A0.0', 'PREDICT_original_tf_GLCM_energyd1.0A0.79', 'PREDICT_original_tf_GLCM_energyd1.0A1.57', 'PREDICT_original_tf_GLCM_energyd1.0A2.36', 'PREDICT_original_tf_GLCM_energyd3.0A0.0', 'PREDICT_original_tf_GLCM_energyd3.0A0.79', 'PREDICT_original_tf_GLCM_energyd3.0A1.57', 'PREDICT_original_tf_GLCM_energyd3.0A2.36', 'PREDICT_original_tf_GLCM_correlationd1.0A0.0', 'PREDICT_original_tf_GLCM_correlationd1.0A0.79', 'PREDICT_original_tf_GLCM_correlationd1.0A1.57', 'PREDICT_original_tf_GLCM_correlationd1.0A2.36', 'PREDICT_original_tf_GLCM_correlationd3.0A0.0', 'PREDICT_original_tf_GLCM_correlationd3.0A0.79', 'PREDICT_original_tf_GLCM_correlationd3.0A1.57', 'PREDICT_original_tf_GLCM_correlationd3.0A2.36', 'PREDICT_original_tf_GLCMMS_contrastd1.0A0.0mean', 'PREDICT_original_tf_GLCMMS_contrastd1.0A0.0std', 'PREDICT_original_tf_GLCMMS_contrastd1.0A0.79mean', 'PREDICT_original_tf_GLCMMS_contrastd1.0A0.79std', 'PREDICT_original_tf_GLCMMS_contrastd1.0A1.57mean', 'PREDICT_original_tf_GLCMMS_contrastd1.0A1.57std', 'PREDICT_original_tf_GLCMMS_contrastd1.0A2.36mean', 'PREDICT_original_tf_GLCMMS_contrastd1.0A2.36std', 'PREDICT_original_tf_GLCMMS_contrastd3.0A0.0mean', 'PREDICT_original_tf_GLCMMS_contrastd3.0A0.0std', 'PREDICT_original_tf_GLCMMS_contrastd3.0A0.79mean', 'PREDICT_original_tf_GLCMMS_contrastd3.0A0.79std', 'PREDICT_original_tf_GLCMMS_contrastd3.0A1.57mean', 'PREDICT_original_tf_GLCMMS_contrastd3.0A1.57std', 'PREDICT_original_tf_GLCMMS_contrastd3.0A2.36mean', 'PREDICT_original_tf_GLCMMS_contrastd3.0A2.36std', 'PREDICT_original_tf_GLCMMS_dissimilarityd1.0A0.0mean', 'PREDICT_original_tf_GLCMMS_dissimilarityd1.0A0.0std', 'PREDICT_original_tf_GLCMMS_dissimilarityd1.0A0.79mean', 'PREDICT_original_tf_GLCMMS_dissimilarityd1.0A0.79std', 'PREDICT_original_tf_GLCMMS_dissimilarityd1.0A1.57mean', 'PREDICT_original_tf_GLCMMS_dissimilarityd1.0A1.57std', 'PREDICT_original_tf_GLCMMS_dissimilarityd1.0A2.36mean', 'PREDICT_original_tf_GLCMMS_dissimilarityd1.0A2.36std', 'PREDICT_original_tf_GLCMMS_dissimilarityd3.0A0.0mean', 'PREDICT_original_tf_GLCMMS_dissimilarityd3.0A0.0std', 'PREDICT_original_tf_GLCMMS_dissimilarityd3.0A0.79mean', 'PREDICT_original_tf_GLCMMS_dissimilarityd3.0A0.79std', 'PREDICT_original_tf_GLCMMS_dissimilarityd3.0A1.57mean', 'PREDICT_original_tf_GLCMMS_dissimilarityd3.0A1.57std', 'PREDICT_original_tf_GLCMMS_dissimilarityd3.0A2.36mean', 'PREDICT_original_tf_GLCMMS_dissimilarityd3.0A2.36std', 'PREDICT_original_tf_GLCMMS_homogeneityd1.0A0.0mean', 'PREDICT_original_tf_GLCMMS_homogeneityd1.0A0.0std', 'PREDICT_original_tf_GLCMMS_homogeneityd1.0A0.79mean', 'PREDICT_original_tf_GLCMMS_homogeneityd1.0A0.79std', 'PREDICT_original_tf_GLCMMS_homogeneityd1.0A1.57mean', 'PREDICT_original_tf_GLCMMS_homogeneityd1.0A1.57std', 'PREDICT_original_tf_GLCMMS_homogeneityd1.0A2.36mean', 'PREDICT_original_tf_GLCMMS_homogeneityd1.0A2.36std', 'PREDICT_original_tf_GLCMMS_homogeneityd3.0A0.0mean', 'PREDICT_original_tf_GLCMMS_homogeneityd3.0A0.0std', 'PREDICT_original_tf_GLCMMS_homogeneityd3.0A0.79mean', 'PREDICT_original_tf_GLCMMS_homogeneityd3.0A0.79std', 'PREDICT_original_tf_GLCMMS_homogeneityd3.0A1.57mean', 'PREDICT_original_tf_GLCMMS_homogeneityd3.0A1.57std', 'PREDICT_original_tf_GLCMMS_homogeneityd3.0A2.36mean', 'PREDICT_original_tf_GLCMMS_homogeneityd3.0A2.36std', 'PREDICT_original_tf_GLCMMS_ASMd1.0A0.0mean', 'PREDICT_original_tf_GLCMMS_ASMd1.0A0.0std', 'PREDICT_original_tf_GLCMMS_ASMd1.0A0.79mean', 'PREDICT_original_tf_GLCMMS_ASMd1.0A0.79std', 'PREDICT_original_tf_GLCMMS_ASMd1.0A1.57mean', 'PREDICT_original_tf_GLCMMS_ASMd1.0A1.57std', 'PREDICT_original_tf_GLCMMS_ASMd1.0A2.36mean', 'PREDICT_original_tf_GLCMMS_ASMd1.0A2.36std', 'PREDICT_original_tf_GLCMMS_ASMd3.0A0.0mean', 'PREDICT_original_tf_GLCMMS_ASMd3.0A0.0std', 'PREDICT_original_tf_GLCMMS_ASMd3.0A0.79mean', 'PREDICT_original_tf_GLCMMS_ASMd3.0A0.79std', 'PREDICT_original_tf_GLCMMS_ASMd3.0A1.57mean', 'PREDICT_original_tf_GLCMMS_ASMd3.0A1.57std', 'PREDICT_original_tf_GLCMMS_ASMd3.0A2.36mean', 'PREDICT_original_tf_GLCMMS_ASMd3.0A2.36std', 'PREDICT_original_tf_GLCMMS_energyd1.0A0.0mean', 'PREDICT_original_tf_GLCMMS_energyd1.0A0.0std', 'PREDICT_original_tf_GLCMMS_energyd1.0A0.79mean', 'PREDICT_original_tf_GLCMMS_energyd1.0A0.79std', 'PREDICT_original_tf_GLCMMS_energyd1.0A1.57mean', 'PREDICT_original_tf_GLCMMS_energyd1.0A1.57std', 'PREDICT_original_tf_GLCMMS_energyd1.0A2.36mean', 'PREDICT_original_tf_GLCMMS_energyd1.0A2.36std', 'PREDICT_original_tf_GLCMMS_energyd3.0A0.0mean', 'PREDICT_original_tf_GLCMMS_energyd3.0A0.0std', 'PREDICT_original_tf_GLCMMS_energyd3.0A0.79mean', 'PREDICT_original_tf_GLCMMS_energyd3.0A0.79std', 'PREDICT_original_tf_GLCMMS_energyd3.0A1.57mean', 'PREDICT_original_tf_GLCMMS_energyd3.0A1.57std', 'PREDICT_original_tf_GLCMMS_energyd3.0A2.36mean', 'PREDICT_original_tf_GLCMMS_energyd3.0A2.36std', 'PREDICT_original_tf_GLCMMS_correlationd1.0A0.0mean', 'PREDICT_original_tf_GLCMMS_correlationd1.0A0.0std', 'PREDICT_original_tf_GLCMMS_correlationd1.0A0.79mean', 'PREDICT_original_tf_GLCMMS_correlationd1.0A0.79std', 'PREDICT_original_tf_GLCMMS_correlationd1.0A1.57mean', 'PREDICT_original_tf_GLCMMS_correlationd1.0A1.57std', 'PREDICT_original_tf_GLCMMS_correlationd1.0A2.36mean', 'PREDICT_original_tf_GLCMMS_correlationd1.0A2.36std', 'PREDICT_original_tf_GLCMMS_correlationd3.0A0.0mean', 'PREDICT_original_tf_GLCMMS_correlationd3.0A0.0std', 'PREDICT_original_tf_GLCMMS_correlationd3.0A0.79mean', 'PREDICT_original_tf_GLCMMS_correlationd3.0A0.79std', 'PREDICT_original_tf_GLCMMS_correlationd3.0A1.57mean', 'PREDICT_original_tf_GLCMMS_correlationd3.0A1.57std', 'PREDICT_original_tf_GLCMMS_correlationd3.0A2.36mean', 'PREDICT_original_tf_GLCMMS_correlationd3.0A2.36std', 'PREDICT_original_tf_Gabor_min_F0.05_A0.0', 'PREDICT_original_tf_Gabor_max_F0.05_A0.0', 'PREDICT_original_tf_Gabor_mean_F0.05_A0.0', 'PREDICT_original_tf_Gabor_median_F0.05_A0.0', 'PREDICT_original_tf_Gabor_std_F0.05_A0.0', 'PREDICT_original_tf_Gabor_skewness_F0.05_A0.0', 'PREDICT_original_tf_Gabor_kurtosis_F0.05_A0.0', 'PREDICT_original_tf_Gabor_peak_F0.05_A0.0', 'PREDICT_original_tf_Gabor_peak_position_F0.05_A0.0', 'PREDICT_original_tf_Gabor_range_F0.05_A0.0', 'PREDICT_original_tf_Gabor_energy_F0.05_A0.0', 'PREDICT_original_tf_Gabor_quartile_range_F0.05_A0.0', 'PREDICT_original_tf_Gabor_entropy_F0.05_A0.0', 'PREDICT_original_tf_Gabor_min_F0.05_A0.79', 'PREDICT_original_tf_Gabor_max_F0.05_A0.79', 'PREDICT_original_tf_Gabor_mean_F0.05_A0.79', 'PREDICT_original_tf_Gabor_median_F0.05_A0.79', 'PREDICT_original_tf_Gabor_std_F0.05_A0.79', 'PREDICT_original_tf_Gabor_skewness_F0.05_A0.79', 'PREDICT_original_tf_Gabor_kurtosis_F0.05_A0.79', 'PREDICT_original_tf_Gabor_peak_F0.05_A0.79', 'PREDICT_original_tf_Gabor_peak_position_F0.05_A0.79', 'PREDICT_original_tf_Gabor_range_F0.05_A0.79', 'PREDICT_original_tf_Gabor_energy_F0.05_A0.79', 'PREDICT_original_tf_Gabor_quartile_range_F0.05_A0.79', 'PREDICT_original_tf_Gabor_entropy_F0.05_A0.79', 'PREDICT_original_tf_Gabor_min_F0.05_A1.57', 'PREDICT_original_tf_Gabor_max_F0.05_A1.57', 'PREDICT_original_tf_Gabor_mean_F0.05_A1.57', 'PREDICT_original_tf_Gabor_median_F0.05_A1.57', 'PREDICT_original_tf_Gabor_std_F0.05_A1.57', 'PREDICT_original_tf_Gabor_skewness_F0.05_A1.57', 'PREDICT_original_tf_Gabor_kurtosis_F0.05_A1.57', 'PREDICT_original_tf_Gabor_peak_F0.05_A1.57', 'PREDICT_original_tf_Gabor_peak_position_F0.05_A1.57', 'PREDICT_original_tf_Gabor_range_F0.05_A1.57', 'PREDICT_original_tf_Gabor_energy_F0.05_A1.57', 'PREDICT_original_tf_Gabor_quartile_range_F0.05_A1.57', 'PREDICT_original_tf_Gabor_entropy_F0.05_A1.57', 'PREDICT_original_tf_Gabor_min_F0.05_A2.36', 'PREDICT_original_tf_Gabor_max_F0.05_A2.36', 'PREDICT_original_tf_Gabor_mean_F0.05_A2.36', 'PREDICT_original_tf_Gabor_median_F0.05_A2.36', 'PREDICT_original_tf_Gabor_std_F0.05_A2.36', 'PREDICT_original_tf_Gabor_skewness_F0.05_A2.36', 'PREDICT_original_tf_Gabor_kurtosis_F0.05_A2.36', 'PREDICT_original_tf_Gabor_peak_F0.05_A2.36', 'PREDICT_original_tf_Gabor_peak_position_F0.05_A2.36', 'PREDICT_original_tf_Gabor_range_F0.05_A2.36', 'PREDICT_original_tf_Gabor_energy_F0.05_A2.36', 'PREDICT_original_tf_Gabor_quartile_range_F0.05_A2.36', 'PREDICT_original_tf_Gabor_entropy_F0.05_A2.36', 'PREDICT_original_tf_Gabor_min_F0.2_A0.0', 'PREDICT_original_tf_Gabor_max_F0.2_A0.0', 'PREDICT_original_tf_Gabor_mean_F0.2_A0.0', 'PREDICT_original_tf_Gabor_median_F0.2_A0.0', 'PREDICT_original_tf_Gabor_std_F0.2_A0.0', 'PREDICT_original_tf_Gabor_skewness_F0.2_A0.0', 'PREDICT_original_tf_Gabor_kurtosis_F0.2_A0.0', 'PREDICT_original_tf_Gabor_peak_F0.2_A0.0', 'PREDICT_original_tf_Gabor_peak_position_F0.2_A0.0', 'PREDICT_original_tf_Gabor_range_F0.2_A0.0', 'PREDICT_original_tf_Gabor_energy_F0.2_A0.0', 'PREDICT_original_tf_Gabor_quartile_range_F0.2_A0.0', 'PREDICT_original_tf_Gabor_entropy_F0.2_A0.0', 'PREDICT_original_tf_Gabor_min_F0.2_A0.79', 'PREDICT_original_tf_Gabor_max_F0.2_A0.79', 'PREDICT_original_tf_Gabor_mean_F0.2_A0.79', 'PREDICT_original_tf_Gabor_median_F0.2_A0.79', 'PREDICT_original_tf_Gabor_std_F0.2_A0.79', 'PREDICT_original_tf_Gabor_skewness_F0.2_A0.79', 'PREDICT_original_tf_Gabor_kurtosis_F0.2_A0.79', 'PREDICT_original_tf_Gabor_peak_F0.2_A0.79', 'PREDICT_original_tf_Gabor_peak_position_F0.2_A0.79', 'PREDICT_original_tf_Gabor_range_F0.2_A0.79', 'PREDICT_original_tf_Gabor_energy_F0.2_A0.79', 'PREDICT_original_tf_Gabor_quartile_range_F0.2_A0.79', 'PREDICT_original_tf_Gabor_entropy_F0.2_A0.79', 'PREDICT_original_tf_Gabor_min_F0.2_A1.57', 'PREDICT_original_tf_Gabor_max_F0.2_A1.57', 'PREDICT_original_tf_Gabor_mean_F0.2_A1.57', 'PREDICT_original_tf_Gabor_median_F0.2_A1.57', 'PREDICT_original_tf_Gabor_std_F0.2_A1.57', 'PREDICT_original_tf_Gabor_skewness_F0.2_A1.57', 'PREDICT_original_tf_Gabor_kurtosis_F0.2_A1.57', 'PREDICT_original_tf_Gabor_peak_F0.2_A1.57', 'PREDICT_original_tf_Gabor_peak_position_F0.2_A1.57', 'PREDICT_original_tf_Gabor_range_F0.2_A1.57', 'PREDICT_original_tf_Gabor_energy_F0.2_A1.57', 'PREDICT_original_tf_Gabor_quartile_range_F0.2_A1.57', 'PREDICT_original_tf_Gabor_entropy_F0.2_A1.57', 'PREDICT_original_tf_Gabor_min_F0.2_A2.36', 'PREDICT_original_tf_Gabor_max_F0.2_A2.36', 'PREDICT_original_tf_Gabor_mean_F0.2_A2.36', 'PREDICT_original_tf_Gabor_median_F0.2_A2.36', 'PREDICT_original_tf_Gabor_std_F0.2_A2.36', 'PREDICT_original_tf_Gabor_skewness_F0.2_A2.36', 'PREDICT_original_tf_Gabor_kurtosis_F0.2_A2.36', 'PREDICT_original_tf_Gabor_peak_F0.2_A2.36', 'PREDICT_original_tf_Gabor_peak_position_F0.2_A2.36', 'PREDICT_original_tf_Gabor_range_F0.2_A2.36', 'PREDICT_original_tf_Gabor_energy_F0.2_A2.36', 'PREDICT_original_tf_Gabor_quartile_range_F0.2_A2.36', 'PREDICT_original_tf_Gabor_entropy_F0.2_A2.36', 'PREDICT_original_tf_Gabor_min_F0.5_A0.0', 'PREDICT_original_tf_Gabor_max_F0.5_A0.0', 'PREDICT_original_tf_Gabor_mean_F0.5_A0.0', 'PREDICT_original_tf_Gabor_median_F0.5_A0.0', 'PREDICT_original_tf_Gabor_std_F0.5_A0.0', 'PREDICT_original_tf_Gabor_skewness_F0.5_A0.0', 'PREDICT_original_tf_Gabor_kurtosis_F0.5_A0.0', 'PREDICT_original_tf_Gabor_peak_F0.5_A0.0', 'PREDICT_original_tf_Gabor_peak_position_F0.5_A0.0', 'PREDICT_original_tf_Gabor_range_F0.5_A0.0', 'PREDICT_original_tf_Gabor_energy_F0.5_A0.0', 'PREDICT_original_tf_Gabor_quartile_range_F0.5_A0.0', 'PREDICT_original_tf_Gabor_entropy_F0.5_A0.0', 'PREDICT_original_tf_Gabor_min_F0.5_A0.79', 'PREDICT_original_tf_Gabor_max_F0.5_A0.79', 'PREDICT_original_tf_Gabor_mean_F0.5_A0.79', 'PREDICT_original_tf_Gabor_median_F0.5_A0.79', 'PREDICT_original_tf_Gabor_std_F0.5_A0.79', 'PREDICT_original_tf_Gabor_skewness_F0.5_A0.79', 'PREDICT_original_tf_Gabor_kurtosis_F0.5_A0.79', 'PREDICT_original_tf_Gabor_peak_F0.5_A0.79', 'PREDICT_original_tf_Gabor_peak_position_F0.5_A0.79', 'PREDICT_original_tf_Gabor_range_F0.5_A0.79', 'PREDICT_original_tf_Gabor_energy_F0.5_A0.79', 'PREDICT_original_tf_Gabor_quartile_range_F0.5_A0.79', 'PREDICT_original_tf_Gabor_entropy_F0.5_A0.79', 'PREDICT_original_tf_Gabor_min_F0.5_A1.57', 'PREDICT_original_tf_Gabor_max_F0.5_A1.57', 'PREDICT_original_tf_Gabor_mean_F0.5_A1.57', 'PREDICT_original_tf_Gabor_median_F0.5_A1.57', 'PREDICT_original_tf_Gabor_std_F0.5_A1.57', 'PREDICT_original_tf_Gabor_skewness_F0.5_A1.57', 'PREDICT_original_tf_Gabor_kurtosis_F0.5_A1.57', 'PREDICT_original_tf_Gabor_peak_F0.5_A1.57', 'PREDICT_original_tf_Gabor_peak_position_F0.5_A1.57', 'PREDICT_original_tf_Gabor_range_F0.5_A1.57', 'PREDICT_original_tf_Gabor_energy_F0.5_A1.57', 'PREDICT_original_tf_Gabor_quartile_range_F0.5_A1.57', 'PREDICT_original_tf_Gabor_entropy_F0.5_A1.57', 'PREDICT_original_tf_Gabor_min_F0.5_A2.36', 'PREDICT_original_tf_Gabor_max_F0.5_A2.36', 'PREDICT_original_tf_Gabor_mean_F0.5_A2.36', 'PREDICT_original_tf_Gabor_median_F0.5_A2.36', 'PREDICT_original_tf_Gabor_std_F0.5_A2.36', 'PREDICT_original_tf_Gabor_skewness_F0.5_A2.36', 'PREDICT_original_tf_Gabor_kurtosis_F0.5_A2.36', 'PREDICT_original_tf_Gabor_peak_F0.5_A2.36', 'PREDICT_original_tf_Gabor_peak_position_F0.5_A2.36', 'PREDICT_original_tf_Gabor_range_F0.5_A2.36', 'PREDICT_original_tf_Gabor_energy_F0.5_A2.36', 'PREDICT_original_tf_Gabor_quartile_range_F0.5_A2.36', 'PREDICT_original_tf_Gabor_entropy_F0.5_A2.36', 'PREDICT_original_vf_Frangi_full_min_SR(1.0, 10.0)_SS2.0', 'PREDICT_original_vf_Frangi_full_max_SR(1.0, 10.0)_SS2.0', 'PREDICT_original_vf_Frangi_full_mean_SR(1.0, 10.0)_SS2.0', 'PREDICT_original_vf_Frangi_full_median_SR(1.0, 10.0)_SS2.0', 'PREDICT_original_vf_Frangi_full_std_SR(1.0, 10.0)_SS2.0', 'PREDICT_original_vf_Frangi_full_skewness_SR(1.0, 10.0)_SS2.0', 'PREDICT_original_vf_Frangi_full_kurtosis_SR(1.0, 10.0)_SS2.0', 'PREDICT_original_vf_Frangi_full_peak_SR(1.0, 10.0)_SS2.0', 'PREDICT_original_vf_Frangi_full_peak_position_SR(1.0, 10.0)_SS2.0', 'PREDICT_original_vf_Frangi_full_range_SR(1.0, 10.0)_SS2.0', 'PREDICT_original_vf_Frangi_full_energy_SR(1.0, 10.0)_SS2.0', 'PREDICT_original_vf_Frangi_full_quartile_range_SR(1.0, 10.0)_SS2.0', 'PREDICT_original_vf_Frangi_full_entropy_SR(1.0, 10.0)_SS2.0', 'PREDICT_original_vf_Frangi_edge_min_SR(1.0, 10.0)_SS2.0', 'PREDICT_original_vf_Frangi_edge_max_SR(1.0, 10.0)_SS2.0', 'PREDICT_original_vf_Frangi_edge_mean_SR(1.0, 10.0)_SS2.0', 'PREDICT_original_vf_Frangi_edge_median_SR(1.0, 10.0)_SS2.0', 'PREDICT_original_vf_Frangi_edge_std_SR(1.0, 10.0)_SS2.0', 'PREDICT_original_vf_Frangi_edge_skewness_SR(1.0, 10.0)_SS2.0', 'PREDICT_original_vf_Frangi_edge_kurtosis_SR(1.0, 10.0)_SS2.0', 'PREDICT_original_vf_Frangi_edge_peak_SR(1.0, 10.0)_SS2.0', 'PREDICT_original_vf_Frangi_edge_peak_position_SR(1.0, 10.0)_SS2.0', 'PREDICT_original_vf_Frangi_edge_range_SR(1.0, 10.0)_SS2.0', 'PREDICT_original_vf_Frangi_edge_energy_SR(1.0, 10.0)_SS2.0', 'PREDICT_original_vf_Frangi_edge_quartile_range_SR(1.0, 10.0)_SS2.0', 'PREDICT_original_vf_Frangi_edge_entropy_SR(1.0, 10.0)_SS2.0', 'PREDICT_original_vf_Frangi_inner_min_SR(1.0, 10.0)_SS2.0', 'PREDICT_original_vf_Frangi_inner_max_SR(1.0, 10.0)_SS2.0', 'PREDICT_original_vf_Frangi_inner_mean_SR(1.0, 10.0)_SS2.0', 'PREDICT_original_vf_Frangi_inner_median_SR(1.0, 10.0)_SS2.0', 'PREDICT_original_vf_Frangi_inner_std_SR(1.0, 10.0)_SS2.0', 'PREDICT_original_vf_Frangi_inner_skewness_SR(1.0, 10.0)_SS2.0', 'PREDICT_original_vf_Frangi_inner_kurtosis_SR(1.0, 10.0)_SS2.0', 'PREDICT_original_vf_Frangi_inner_peak_SR(1.0, 10.0)_SS2.0', 'PREDICT_original_vf_Frangi_inner_peak_position_SR(1.0, 10.0)_SS2.0', 'PREDICT_original_vf_Frangi_inner_range_SR(1.0, 10.0)_SS2.0', 'PREDICT_original_vf_Frangi_inner_energy_SR(1.0, 10.0)_SS2.0', 'PREDICT_original_vf_Frangi_inner_quartile_range_SR(1.0, 10.0)_SS2.0', 'PREDICT_original_vf_Frangi_inner_entropy_SR(1.0, 10.0)_SS2.0', 'PREDICT_original_phasef_monogenic_min_WL3_N5', 'PREDICT_original_phasef_monogenic_max_WL3_N5', 'PREDICT_original_phasef_monogenic_mean_WL3_N5', 'PREDICT_original_phasef_monogenic_median_WL3_N5', 'PREDICT_original_phasef_monogenic_std_WL3_N5', 'PREDICT_original_phasef_monogenic_skewness_WL3_N5', 'PREDICT_original_phasef_monogenic_kurtosis_WL3_N5', 'PREDICT_original_phasef_monogenic_peak_WL3_N5', 'PREDICT_original_phasef_monogenic_peak_position_WL3_N5', 'PREDICT_original_phasef_monogenic_range_WL3_N5', 'PREDICT_original_phasef_monogenic_energy_WL3_N5', 'PREDICT_original_phasef_monogenic_quartile_range_WL3_N5', 'PREDICT_original_phasef_monogenic_entropy_WL3_N5', 'PREDICT_original_phasef_phasecong_min_WL3_N5', 'PREDICT_original_phasef_phasecong_max_WL3_N5', 'PREDICT_original_phasef_phasecong_mean_WL3_N5', 'PREDICT_original_phasef_phasecong_median_WL3_N5', 'PREDICT_original_phasef_phasecong_std_WL3_N5', 'PREDICT_original_phasef_phasecong_skewness_WL3_N5', 'PREDICT_original_phasef_phasecong_kurtosis_WL3_N5', 'PREDICT_original_phasef_phasecong_peak_WL3_N5', 'PREDICT_original_phasef_phasecong_peak_position_WL3_N5', 'PREDICT_original_phasef_phasecong_range_WL3_N5', 'PREDICT_original_phasef_phasecong_energy_WL3_N5', 'PREDICT_original_phasef_phasecong_quartile_range_WL3_N5', 'PREDICT_original_phasef_phasecong_entropy_WL3_N5', 'PREDICT_original_phasef_phasesym_min_WL3_N5', 'PREDICT_original_phasef_phasesym_max_WL3_N5', 'PREDICT_original_phasef_phasesym_mean_WL3_N5', 'PREDICT_original_phasef_phasesym_median_WL3_N5', 'PREDICT_original_phasef_phasesym_std_WL3_N5', 'PREDICT_original_phasef_phasesym_skewness_WL3_N5', 'PREDICT_original_phasef_phasesym_kurtosis_WL3_N5', 'PREDICT_original_phasef_phasesym_peak_WL3_N5', 'PREDICT_original_phasef_phasesym_peak_position_WL3_N5', 'PREDICT_original_phasef_phasesym_range_WL3_N5', 'PREDICT_original_phasef_phasesym_energy_WL3_N5', 'PREDICT_original_phasef_phasesym_quartile_range_WL3_N5', 'PREDICT_original_phasef_phasesym_entropy_WL3_N5', 'label']\n",
      "Aantal duplicaten: 0\n",
      "Missende waarden per kolom:\n",
      "PREDICT_original_sf_compactness_avg_2.5D                  0\n",
      "PREDICT_original_sf_compactness_std_2.5D                  0\n",
      "PREDICT_original_sf_rad_dist_avg_2.5D                     0\n",
      "PREDICT_original_sf_rad_dist_std_2.5D                     0\n",
      "PREDICT_original_sf_roughness_avg_2.5D                    0\n",
      "                                                         ..\n",
      "PREDICT_original_phasef_phasesym_range_WL3_N5             0\n",
      "PREDICT_original_phasef_phasesym_energy_WL3_N5            0\n",
      "PREDICT_original_phasef_phasesym_quartile_range_WL3_N5    0\n",
      "PREDICT_original_phasef_phasesym_entropy_WL3_N5           0\n",
      "label                                                     0\n",
      "Length: 494, dtype: int64\n",
      "Totaal aantal missende waarden: 0\n"
     ]
    }
   ],
   "source": [
    "# 📦 Vereiste imports\n",
    "import pandas as pd\n",
    "import numpy as np\n",
    "from sklearn.preprocessing import StandardScaler, MinMaxScaler, RobustScaler, LabelEncoder\n",
    "from sklearn.decomposition import PCA\n",
    "from sklearn.feature_selection import SelectKBest, f_classif, RFECV\n",
    "from sklearn.ensemble import RandomForestClassifier\n",
    "from sklearn.model_selection import StratifiedKFold, train_test_split, cross_validate\n",
    "from sklearn.metrics import make_scorer, accuracy_score, f1_score\n",
    "import matplotlib.pyplot as plt\n",
    "import seaborn as sns\n",
    "\n",
    "# 🧾 Stap 1 – Laad de data\n",
    "data = pd.read_excel(\"..\\TrainData.xlsx\")\n",
    "\n",
    "# 🔍 Eerste inspectie\n",
    "print(\"Vorm van de data:\", data.shape)\n",
    "print(\"Kolommen:\", data.columns.tolist())\n",
    "print(\"Aantal duplicaten:\", data.duplicated().sum())\n",
    "print(\"Missende waarden per kolom:\")\n",
    "print(data.isnull().sum())\n",
    "\n",
    "# 🧼 Stap 2 – Dubbele rijen verwijderen\n",
    "data = data.drop_duplicates()\n",
    "\n",
    "# 🎯 Stap 3 – Split in features en labels\n",
    "X = data.drop(columns=\"label\")\n",
    "y = data[\"label\"]\n",
    "\n",
    "# 🔁 Zet y om naar numeriek met behoud van pandas Series\n",
    "label_encoder = LabelEncoder()\n",
    "y = pd.Series(label_encoder.fit_transform(y), index=y.index)\n",
    "\n",
    "# ❓ Hoeveel missende waarden blijven over?\n",
    "print(\"Totaal aantal missende waarden:\", X.isnull().sum().sum())\n",
    "\n",
    "# ⚠️ Stap 4 – NaNs imputer (mediaan)\n",
    "X = X.fillna(X.median(numeric_only=True))\n",
    "\n",
    "\n",
    "#Data normalisatie\n",
    "\n",
    "X_Scaled = StandardScaler().fit_transform(X)\n",
    "\n",
    "\n"
   ]
  },
  {
   "cell_type": "code",
   "execution_count": 41,
   "metadata": {},
   "outputs": [
    {
     "name": "stderr",
     "output_type": "stream",
     "text": [
      "c:\\Users\\jelle\\OneDrive - Delft University of Technology\\10007 Machine learning\\.conda\\Lib\\site-packages\\sklearn\\feature_selection\\_univariate_selection.py:111: UserWarning: Features [ 76  77  83  84  85  90  96  97 103 109 110 467 474 475 480 487 488] are constant.\n",
      "  warnings.warn(\"Features %s are constant.\" % constant_features_idx, UserWarning)\n",
      "c:\\Users\\jelle\\OneDrive - Delft University of Technology\\10007 Machine learning\\.conda\\Lib\\site-packages\\sklearn\\feature_selection\\_univariate_selection.py:112: RuntimeWarning: invalid value encountered in divide\n",
      "  f = msb / msw\n"
     ]
    }
   ],
   "source": [
    "# Feature selection k-best\n",
    "from sklearn.feature_selection import SelectKBest, f_classif\n",
    "\n",
    "#k-best\n",
    "clf = SelectKBest(k=100)\n",
    "clf.fit(X_Scaled, y)\n",
    "X_k_best = clf.transform(X_Scaled)\n",
    "selected_features = clf.get_support(indices=True)\n",
    "\n",
    "from sklearn.feature_selection import RFECV\n",
    "from sklearn.neighbors import KNeighborsClassifier\n",
    "\n"
   ]
  },
  {
   "cell_type": "code",
   "execution_count": 66,
   "metadata": {},
   "outputs": [],
   "source": [
    "class KNNWithFeatureImportance(KNeighborsClassifier):\n",
    "    def __init__(self, n_neighbors=5, **kwargs):\n",
    "        super().__init__(n_neighbors=n_neighbors, **kwargs)\n",
    "        self.feature_importances_ = None\n",
    "    \n",
    "    def fit(self, X, y):\n",
    "        # Call the original fit method\n",
    "        super().fit(X, y)\n",
    "        \n",
    "        # Create a simple feature importance based on feature variance\n",
    "        # This is just one possible approach - you could use other methods\n",
    "        rf_model = RandomForestClassifier(n_estimators=50)\n",
    "        rf_model.fit(X, y)\n",
    "        \n",
    "        self.feature_importances_ = rf_model.feature_importances_\n",
    "        \n",
    "        return self\n",
    "\n"
   ]
  },
  {
   "cell_type": "code",
   "execution_count": null,
   "metadata": {},
   "outputs": [],
   "source": [
    "from sklearn.feature_selection import RFECV\n",
    "from sklearn.neighbors import KNeighborsClassifier\n",
    "\n",
    "#RFECV met KNN\n",
    "clf = KNNWithFeatureImportance(n_neighbors=5)\n",
    "selector = RFECV(clf, step=1, cv=StratifiedKFold(5), scoring='accuracy')\n",
    "X_selected = selector.fit_transform(X, y)"
   ]
  },
  {
   "cell_type": "code",
   "execution_count": 32,
   "metadata": {},
   "outputs": [],
   "source": [
    "from sklearn.feature_selection import SequentialFeatureSelector\n",
    "\n",
    "clf = KNeighborsClassifier(n_neighbors=5)\n",
    "selector = SequentialFeatureSelector(clf, direction='forward', cv=StratifiedKFold(5))\n",
    "X_selected = selector.fit_transform(X_k_best, y)\n",
    "\n"
   ]
  },
  {
   "cell_type": "code",
   "execution_count": 33,
   "metadata": {},
   "outputs": [
    {
     "name": "stdout",
     "output_type": "stream",
     "text": [
      "AUC = 0.8683673469387756 and accuracy = 0.8269230769230769\n"
     ]
    }
   ],
   "source": [
    "# small test to check if it is better\n",
    "from sklearn.model_selection import cross_val_score\n",
    "\n",
    "KNN = KNeighborsClassifier(n_neighbors=5)\n",
    "scores = cross_validate(KNN, X_selected, y, cv=StratifiedKFold(10), scoring=[\"roc_auc\", \"accuracy\"])\n",
    "print(f\"AUC = {scores['test_roc_auc'].mean()} and accuracy = {scores['test_accuracy'].mean()}\")"
   ]
  },
  {
   "cell_type": "code",
   "execution_count": 40,
   "metadata": {},
   "outputs": [
    {
     "name": "stdout",
     "output_type": "stream",
     "text": [
      "AUC = 0.8661564625850341 and accuracy = 0.826923076923077\n"
     ]
    }
   ],
   "source": [
    "# using PCA to reduce the dimensionality of the data\n",
    "from sklearn.decomposition import PCA\n",
    "pca = PCA(n_components=0.99)  # Reduce to 10 components\n",
    "X_pca = pca.fit_transform(X_selected)\n",
    "\n",
    "scores = cross_validate(KNN, X_pca, y, cv=StratifiedKFold(10), scoring=[\"roc_auc\", \"accuracy\"])\n",
    "print(f\"AUC = {scores['test_roc_auc'].mean()} and accuracy = {scores['test_accuracy'].mean()}\")"
   ]
  },
  {
   "cell_type": "code",
   "execution_count": 35,
   "metadata": {},
   "outputs": [
    {
     "name": "stdout",
     "output_type": "stream",
     "text": [
      "AUC = 0.5285714285714287 and accuracy = 0.5263736263736264\n"
     ]
    }
   ],
   "source": [
    "# baseline test\n",
    "scores = cross_validate(KNN, X, y, cv=StratifiedKFold(10), scoring=[\"roc_auc\", \"accuracy\"])\n",
    "print(f\"AUC = {scores['test_roc_auc'].mean()} and accuracy = {scores['test_accuracy'].mean()}\")"
   ]
  },
  {
   "cell_type": "code",
   "execution_count": null,
   "metadata": {},
   "outputs": [],
   "source": [
    "plt.scatter(X_new[:, 0], X_new[:, 1], c=y, cmap='viridis', edgecolor='k')"
   ]
  },
  {
   "cell_type": "code",
   "execution_count": 36,
   "metadata": {},
   "outputs": [
    {
     "data": {
      "text/plain": [
       "(139, 30)"
      ]
     },
     "execution_count": 36,
     "metadata": {},
     "output_type": "execute_result"
    }
   ],
   "source": [
    "\n",
    "\n",
    "X_pca.shape"
   ]
  },
  {
   "cell_type": "code",
   "execution_count": 37,
   "metadata": {},
   "outputs": [
    {
     "data": {
      "text/plain": [
       "(139, 50)"
      ]
     },
     "execution_count": 37,
     "metadata": {},
     "output_type": "execute_result"
    }
   ],
   "source": [
    "X_selected.shape"
   ]
  }
 ],
 "metadata": {
  "kernelspec": {
   "display_name": "Python 3",
   "language": "python",
   "name": "python3"
  },
  "language_info": {
   "codemirror_mode": {
    "name": "ipython",
    "version": 3
   },
   "file_extension": ".py",
   "mimetype": "text/x-python",
   "name": "python",
   "nbconvert_exporter": "python",
   "pygments_lexer": "ipython3",
   "version": "3.12.9"
  }
 },
 "nbformat": 4,
 "nbformat_minor": 2
}
