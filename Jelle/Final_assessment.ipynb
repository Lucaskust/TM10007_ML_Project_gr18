{
 "cells": [
  {
   "cell_type": "code",
   "execution_count": 1,
   "id": "b67fbe94",
   "metadata": {},
   "outputs": [],
   "source": [
    "# Import necessary libraries\n",
    "import pickle\n",
    "from sklearn.naive_bayes import GaussianNB\n",
    "from sklearn.preprocessing import MinMaxScaler, StandardScaler, LabelEncoder\n",
    "from sklearn.model_selection import cross_validate\n",
    "from sklearn.metrics import accuracy_score, f1_score, roc_auc_score, confusion_matrix\n",
    "from sklearn.neighbors import KNeighborsClassifier\n",
    "from sklearn.ensemble import RandomForestClassifier\n",
    "import pandas as pd\n",
    "\n"
   ]
  },
  {
   "cell_type": "code",
   "execution_count": 2,
   "id": "cfbb953a",
   "metadata": {},
   "outputs": [],
   "source": [
    "##load \n",
    "\n",
    "#load feature mask\n",
    "with open(r\"..\\..\\mask_selected_features.pkl\", \"rb\") as f:\n",
    "    feature_mask = pickle.load(f)\n",
    "\n",
    "\n",
    "\n",
    "\n",
    "# Load the pre-trained KNN model\n",
    "with open(r'KNNFinal\\\\KNN_model.pkl', 'rb') as file:\n",
    "    model = pickle.load(file)\n",
    "\n",
    "# Load the standard used for feature scaling\n",
    "with open(r'KNNFinal\\\\KNN_Scaler.pkl', 'rb') as file:\n",
    "    scaler = pickle.load(file)\n",
    "\n",
    "# Load the pca_transformer\n",
    "with open(r'KNNFinal\\\\pca_transformer.pkl', 'rb') as file:\n",
    "    pca_transformer = pickle.load(file)"
   ]
  },
  {
   "cell_type": "code",
   "execution_count": 14,
   "id": "af64ead1",
   "metadata": {},
   "outputs": [
    {
     "name": "stdout",
     "output_type": "stream",
     "text": [
      "Accuracy: 0.6809\n",
      "F1 Score: 0.7170\n",
      "ROC AUC: 0.6784\n"
     ]
    }
   ],
   "source": [
    "## Check KNN model\n",
    "\n",
    "# Load the dataset and remove duplicates\n",
    "data = pd.read_excel(r'..\\\\..\\\\TestData.xlsx')\n",
    "data = data.drop_duplicates()\n",
    "\n",
    "# Separate features (X) and labels (y)\n",
    "X = data.drop(columns=\"label\")\n",
    "y = data[\"label\"]\n",
    "\n",
    "# Encode the labels into numeric format\n",
    "label_encoder = LabelEncoder()\n",
    "y = pd.Series(label_encoder.fit_transform(y), index=y.index)\n",
    "\n",
    "# Scale the features using the loaded Scaler\n",
    "X_scaled = scaler.transform(X)\n",
    "\n",
    "# Select only the features specified by the mask\n",
    "X_selected = X_scaled[:, feature_mask]\n",
    "\n",
    "# Transform the features using PCA\n",
    "X_pca = pca_transformer.transform(X_selected)\n",
    "\n",
    "\n",
    "# Predict the labels using the loaded model\n",
    "y_pred = model.predict(X_pca)\n",
    "y_true = y.values\n",
    "\n",
    "# Calculate and print the accuracy of the model\n",
    "accuracy = accuracy_score(y_true, y_pred)\n",
    "print(f\"Accuracy: {accuracy:.4f}\")\n",
    "\n",
    "# Calculate and print the F1 score of the model\n",
    "# Use 'binary' for binary classification; adjust if it's a multi-class problem\n",
    "f1 = f1_score(y_true, y_pred, average='binary')\n",
    "print(f\"F1 Score: {f1:.4f}\")\n",
    "\n",
    "# Calculate and print the ROC AUC score of the model\n",
    "roc_auc = roc_auc_score(y_true, y_pred)\n",
    "print(f\"ROC AUC: {roc_auc:.4f}\")"
   ]
  },
  {
   "cell_type": "code",
   "execution_count": null,
   "id": "ddf38f0b",
   "metadata": {},
   "outputs": [
    {
     "data": {
      "text/plain": [
       "(47,)"
      ]
     },
     "execution_count": 13,
     "metadata": {},
     "output_type": "execute_result"
    }
   ],
   "source": []
  },
  {
   "cell_type": "code",
   "execution_count": null,
   "id": "078bcef3",
   "metadata": {},
   "outputs": [],
   "source": [
    "##Load Naiv bayes model\n",
    "\n",
    "# Load the pre-trained Gaussian Naive Bayes model\n",
    "with open(r'BayesFinal\\\\naive_bayes_model.pkl', 'rb') as file:\n",
    "    model = pickle.load(file)\n",
    "\n",
    "# Load the MinMaxScaler used for feature scaling\n",
    "with open(r'BayesFinal\\\\naive_bayes_minmax_Scaler.pkl', 'rb') as file:\n",
    "    scaler = pickle.load(file)\n",
    "\n",
    "# Load the mask for selected features\n",
    "with open(r'BayesFinal\\\\selected_features_mask.pkl', 'rb') as file:\n",
    "    mask_features = pickle.load(file)"
   ]
  }
 ],
 "metadata": {
  "kernelspec": {
   "display_name": "Python 3",
   "language": "python",
   "name": "python3"
  },
  "language_info": {
   "codemirror_mode": {
    "name": "ipython",
    "version": 3
   },
   "file_extension": ".py",
   "mimetype": "text/x-python",
   "name": "python",
   "nbconvert_exporter": "python",
   "pygments_lexer": "ipython3",
   "version": "3.12.9"
  }
 },
 "nbformat": 4,
 "nbformat_minor": 5
}
