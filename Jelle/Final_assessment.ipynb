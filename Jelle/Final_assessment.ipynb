{
 "cells": [
  {
   "cell_type": "code",
   "execution_count": 9,
   "id": "b67fbe94",
   "metadata": {},
   "outputs": [],
   "source": [
    "# Import necessary libraries\n",
    "import pickle\n",
    "from sklearn.naive_bayes import GaussianNB\n",
    "from sklearn.preprocessing import MinMaxScaler, StandardScaler, LabelEncoder\n",
    "from sklearn.model_selection import cross_validate\n",
    "from sklearn.metrics import accuracy_score, f1_score, roc_auc_score, confusion_matrix\n",
    "from sklearn.neighbors import KNeighborsClassifier\n",
    "from sklearn.ensemble import RandomForestClassifier\n",
    "import pandas as pd\n",
    "\n"
   ]
  },
  {
   "cell_type": "code",
   "execution_count": 26,
   "id": "cfbb953a",
   "metadata": {},
   "outputs": [],
   "source": [
    "##load KNN\n",
    "\n",
    "#first load function KNNWithFeatureImportance\n",
    "\n",
    "class KNNWithFeatureImportance(KNeighborsClassifier):\n",
    "    def __init__(self, n_neighbors=5, **kwargs):\n",
    "        super().__init__(n_neighbors=n_neighbors, **kwargs)\n",
    "        self.feature_importances_ = None\n",
    "    \n",
    "    def fit(self, X, y):\n",
    "        # Call the original fit method\n",
    "        super().fit(X, y)\n",
    "        \n",
    "        # Create a simple feature importance based on feature variance\n",
    "        # This is just one possible approach - you could use other methods\n",
    "        rf_model = RandomForestClassifier(n_estimators=50)\n",
    "        rf_model.fit(X, y)\n",
    "        \n",
    "        self.feature_importances_ = rf_model.feature_importances_\n",
    "        \n",
    "        return self\n",
    "\n",
    "\n",
    "\n",
    "# Load the pre-trained KNN model\n",
    "with open(r'KNNFinal\\\\KNN_model.pkl', 'rb') as file:\n",
    "    model = pickle.load(file)\n",
    "\n",
    "# Load the standard used for feature scaling\n",
    "with open(r'KNNFinal\\\\KNN_Scaler.pkl', 'rb') as file:\n",
    "    scaler = pickle.load(file)\n",
    "\n",
    "# Load the mask for selected features\n",
    "with open(r'KNNFinal\\\\selected_features_mask.pkl', 'rb') as file:\n",
    "    mask_features = pickle.load(file)"
   ]
  },
  {
   "cell_type": "code",
   "execution_count": null,
   "id": "cb643909",
   "metadata": {},
   "outputs": [],
   "source": [
    "##Load Naiv bayes model\n",
    "\n",
    "# Load the pre-trained Gaussian Naive Bayes model\n",
    "with open(r'BayesFinal\\\\naive_bayes_model.pkl', 'rb') as file:\n",
    "    model = pickle.load(file)\n",
    "\n",
    "# Load the MinMaxScaler used for feature scaling\n",
    "with open(r'BayesFinal\\\\naive_bayes_minmax_Scaler.pkl', 'rb') as file:\n",
    "    scaler = pickle.load(file)\n",
    "\n",
    "# Load the mask for selected features\n",
    "with open(r'BayesFinal\\\\selected_features_mask.pkl', 'rb') as file:\n",
    "    mask_features = pickle.load(file)\n"
   ]
  },
  {
   "cell_type": "code",
   "execution_count": null,
   "id": "af64ead1",
   "metadata": {},
   "outputs": [
    {
     "name": "stdout",
     "output_type": "stream",
     "text": [
      "Accuracy: 0.6383\n",
      "F1 Score: 0.6667\n",
      "ROC AUC: 0.6368\n"
     ]
    }
   ],
   "source": [
    "# Load the dataset and remove duplicates\n",
    "data = pd.read_excel(r'..\\\\TestData.xlsx')\n",
    "data = data.drop_duplicates()\n",
    "\n",
    "# Separate features (X) and labels (y)\n",
    "X = data.drop(columns=\"label\")\n",
    "y = data[\"label\"]\n",
    "\n",
    "# Encode the labels into numeric format\n",
    "label_encoder = LabelEncoder()\n",
    "y = pd.Series(label_encoder.fit_transform(y), index=y.index)\n",
    "\n",
    "# Scale the features using the loaded Scaler\n",
    "X_scaled = scaler.transform(X)\n",
    "\n",
    "# Select only the features specified by the mask\n",
    "X_selected = X_scaled[:, mask_features]\n",
    "\n",
    "# Predict the labels using the loaded model\n",
    "y_pred = model.predict(X_selected)\n",
    "y_true = y.values\n",
    "\n",
    "# Calculate and print the accuracy of the model\n",
    "accuracy = accuracy_score(y_true, y_pred)\n",
    "print(f\"Accuracy: {accuracy:.4f}\")\n",
    "\n",
    "# Calculate and print the F1 score of the model\n",
    "# Use 'binary' for binary classification; adjust if it's a multi-class problem\n",
    "f1 = f1_score(y_true, y_pred, average='binary')\n",
    "print(f\"F1 Score: {f1:.4f}\")\n",
    "\n",
    "# Calculate and print the ROC AUC score of the model\n",
    "roc_auc = roc_auc_score(y_true, y_pred)\n",
    "print(f\"ROC AUC: {roc_auc:.4f}\")"
   ]
  }
 ],
 "metadata": {
  "kernelspec": {
   "display_name": "Python 3",
   "language": "python",
   "name": "python3"
  },
  "language_info": {
   "codemirror_mode": {
    "name": "ipython",
    "version": 3
   },
   "file_extension": ".py",
   "mimetype": "text/x-python",
   "name": "python",
   "nbconvert_exporter": "python",
   "pygments_lexer": "ipython3",
   "version": "3.12.9"
  }
 },
 "nbformat": 4,
 "nbformat_minor": 5
}
