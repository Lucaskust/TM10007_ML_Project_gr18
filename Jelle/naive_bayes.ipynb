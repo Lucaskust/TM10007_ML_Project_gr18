{
 "cells": [
  {
   "cell_type": "code",
   "execution_count": 2,
   "id": "5d8b2354",
   "metadata": {},
   "outputs": [
    {
     "name": "stdout",
     "output_type": "stream",
     "text": [
      "Totaal aantal missende waarden: 0\n"
     ]
    }
   ],
   "source": [
    "# 📦 Vereiste imports\n",
    "import pandas as pd\n",
    "import numpy as np\n",
    "import matplotlib.pyplot as plt\n",
    "import seaborn as sns\n",
    "\n",
    "# Scikit-learn preprocessing, feature selection, and decomposition\n",
    "from sklearn.preprocessing import StandardScaler, LabelEncoder\n",
    "from sklearn.decomposition import PCA\n",
    "from sklearn.feature_selection import SelectKBest, RFECV, SequentialFeatureSelector, f_classif\n",
    "\n",
    "# Scikit-learn models and evaluation\n",
    "from sklearn.ensemble import RandomForestClassifier\n",
    "from sklearn.neighbors import KNeighborsClassifier\n",
    "from sklearn.naive_bayes import GaussianNB\n",
    "from sklearn.model_selection import (\n",
    "    StratifiedKFold,\n",
    "    train_test_split,\n",
    "    cross_validate,\n",
    "    cross_val_score,\n",
    "    GridSearchCV,\n",
    ")\n",
    "from sklearn.metrics import accuracy_score, f1_score, make_scorer\n",
    "from sklearn.pipeline import Pipeline\n",
    "from sklearn.metrics import roc_auc_score\n",
    "\n",
    "# Additional imports\n",
    "import pickle\n",
    "\n",
    "\n",
    "# load data + feature_mask\n",
    "\n",
    "data = pd.read_excel(r\"..\\..\\TrainData.xlsx\")\n",
    "\n",
    "with open(r\"..\\..\\mask_selected_features.pkl\", \"rb\") as f:\n",
    "    feature_mask = pickle.load(f)\n",
    "\n",
    "\n",
    "# Data preprocessing\n",
    "\n",
    "data = data.drop_duplicates()\n",
    "\n",
    "# 🎯 Stap 3 – Split in features en labels\n",
    "X = data.drop(columns=\"label\")\n",
    "y = data[\"label\"]\n",
    "\n",
    "# 🔁 Zet y om naar numeriek met behoud van pandas Series\n",
    "label_encoder = LabelEncoder()\n",
    "y = pd.Series(label_encoder.fit_transform(y), index=y.index)\n",
    "\n",
    "# ❓ Hoeveel missende waarden blijven over?\n",
    "print(\"Totaal aantal missende waarden:\", X.isnull().sum().sum())\n",
    "\n",
    "# ⚠️ Stap 4 – NaNs imputer (mediaan)\n",
    "X = X.fillna(X.median(numeric_only=True))\n",
    "\n",
    "\n",
    "#Data selectie + normalisatie\n",
    "\n",
    "X_Scaled = StandardScaler().fit_transform(X)\n",
    "X_selected = X_Scaled[:, feature_mask]\n",
    "\n"
   ]
  },
  {
   "cell_type": "code",
   "execution_count": 54,
   "id": "b1290367",
   "metadata": {},
   "outputs": [
    {
     "name": "stdout",
     "output_type": "stream",
     "text": [
      "[0.64285714 0.71428571 0.64285714 0.82142857 0.74074074]\n",
      "0.7124338624338623\n"
     ]
    }
   ],
   "source": [
    "#baseline test\n",
    "clf = GaussianNB(var_smoothing=0.000043)\n",
    "score = cross_val_score(clf, X_selected, y, cv=StratifiedKFold(5), scoring=\"accuracy\")\n",
    "print(score)\n",
    "print(np.mean(score))"
   ]
  },
  {
   "cell_type": "code",
   "execution_count": 55,
   "id": "254ca092",
   "metadata": {},
   "outputs": [
    {
     "name": "stdout",
     "output_type": "stream",
     "text": [
      "Average performance across 100 trials: 0.8552 ± 0.0227\n"
     ]
    }
   ],
   "source": [
    "# (DEZE GEBRUIKEN) difficult nested score to see best params. Perform grid-search with nested cross-validation for hyperparameter tuning\n",
    "\n",
    "NUM_TRIALS = 100\n",
    "nested_scores = np.zeros(NUM_TRIALS)\n",
    "Gaussian = GaussianNB()\n",
    "\n",
    "\n",
    "param_grid = {\n",
    "    #\"var_smoothing\": [2,3,4, 1, 0.1, 0.001, 0.0001],\n",
    "    \"var_smoothing\": [1, 2, 3, 4, 5, 6, 7, 8, 9, 10, 11, 12, 13, 14, 15],\n",
    "}\n",
    "\n",
    "nested_scores = np.zeros(NUM_TRIALS)\n",
    "all_best_params = []\n",
    "\n",
    "for i in range(NUM_TRIALS):\n",
    "    # Create outer and inner cross-validation objects\n",
    "    outer_cv = StratifiedKFold(n_splits=5, shuffle=True, random_state=i)\n",
    "    inner_cv = StratifiedKFold(n_splits=5, shuffle=True, random_state=i)\n",
    "\n",
    "    # Store the best parameters and scores for each outer fold\n",
    "    best_params = []\n",
    "    outer_scores = []\n",
    "\n",
    "    for train_idx, test_idx in outer_cv.split(X_selected, y):\n",
    "        X_train, X_test = X_selected[train_idx], X_selected[test_idx]\n",
    "        y_train, y_test = y[train_idx], y[test_idx]\n",
    "        \n",
    "        # Create a new GridSearchCV for each inner fold\n",
    "        clf = GridSearchCV(Gaussian, param_grid, cv=inner_cv, scoring=\"accuracy\", n_jobs=-1)\n",
    "        \n",
    "        # Fit GridSearchCV on the training data\n",
    "        clf.fit(X_train, y_train)\n",
    "        \n",
    "        # Get the best model from inner CV\n",
    "        best_model = clf.best_estimator_\n",
    "        \n",
    "        # Evaluate the best model on the outer test fold\n",
    "        y_pred = best_model.predict_proba(X_test)[:, 1]\n",
    "        outer_score = roc_auc_score(y_test, y_pred)\n",
    "        \n",
    "        # Append the best parameters and outer score\n",
    "        best_params.append(clf.best_params_)\n",
    "        outer_scores.append(outer_score)\n",
    "    \n",
    "    # Store the mean score for this trial\n",
    "    nested_scores[i] = np.mean(outer_scores)\n",
    "    all_best_params.append([i, best_params])\n",
    "\n",
    "test = [best_params for _, best_params in all_best_params]\n",
    "\n",
    "df = pd.DataFrame(test, columns=[\"inner_1\", \"inner_2\", \"inner_3\", \"inner_4\", \"inner_5\"])\n",
    "\n",
    "with open(r\"output_grid_searches\\Bayes_nested_scores.pkl\", \"wb\") as f:\n",
    "    pickle.dump(nested_scores, f)\n",
    "\n",
    "with open(r\"output_grid_searches\\Bayes_best_params.pkl\", \"wb\") as f:\n",
    "    pickle.dump(df, f)\n",
    "\n",
    "# Print results\n",
    "print(f\"Average performance across {NUM_TRIALS} trials: {np.mean(nested_scores):.4f} ± {np.std(nested_scores):.4f}\")\n"
   ]
  },
  {
   "cell_type": "code",
   "execution_count": 56,
   "id": "ef0fac0e",
   "metadata": {},
   "outputs": [
    {
     "data": {
      "application/vnd.microsoft.datawrangler.viewer.v0+json": {
       "columns": [
        {
         "name": "index",
         "rawType": "int64",
         "type": "integer"
        },
        {
         "name": "inner_1",
         "rawType": "object",
         "type": "unknown"
        },
        {
         "name": "inner_2",
         "rawType": "object",
         "type": "unknown"
        },
        {
         "name": "inner_3",
         "rawType": "object",
         "type": "unknown"
        },
        {
         "name": "inner_4",
         "rawType": "object",
         "type": "unknown"
        },
        {
         "name": "inner_5",
         "rawType": "object",
         "type": "unknown"
        }
       ],
       "conversionMethod": "pd.DataFrame",
       "ref": "bcaefd05-ff77-4d92-bfe8-4c6379f5c26a",
       "rows": [
        [
         "0",
         "{'var_smoothing': 1}",
         "{'var_smoothing': 2}",
         "{'var_smoothing': 2}",
         "{'var_smoothing': 1}",
         "{'var_smoothing': 3}"
        ],
        [
         "1",
         "{'var_smoothing': 1}",
         "{'var_smoothing': 1}",
         "{'var_smoothing': 3}",
         "{'var_smoothing': 1}",
         "{'var_smoothing': 8}"
        ],
        [
         "2",
         "{'var_smoothing': 1}",
         "{'var_smoothing': 1}",
         "{'var_smoothing': 1}",
         "{'var_smoothing': 3}",
         "{'var_smoothing': 1}"
        ],
        [
         "3",
         "{'var_smoothing': 1}",
         "{'var_smoothing': 5}",
         "{'var_smoothing': 1}",
         "{'var_smoothing': 7}",
         "{'var_smoothing': 1}"
        ],
        [
         "4",
         "{'var_smoothing': 1}",
         "{'var_smoothing': 5}",
         "{'var_smoothing': 4}",
         "{'var_smoothing': 3}",
         "{'var_smoothing': 1}"
        ],
        [
         "5",
         "{'var_smoothing': 3}",
         "{'var_smoothing': 2}",
         "{'var_smoothing': 5}",
         "{'var_smoothing': 1}",
         "{'var_smoothing': 2}"
        ],
        [
         "6",
         "{'var_smoothing': 1}",
         "{'var_smoothing': 8}",
         "{'var_smoothing': 1}",
         "{'var_smoothing': 1}",
         "{'var_smoothing': 1}"
        ],
        [
         "7",
         "{'var_smoothing': 1}",
         "{'var_smoothing': 1}",
         "{'var_smoothing': 11}",
         "{'var_smoothing': 4}",
         "{'var_smoothing': 14}"
        ],
        [
         "8",
         "{'var_smoothing': 4}",
         "{'var_smoothing': 9}",
         "{'var_smoothing': 1}",
         "{'var_smoothing': 1}",
         "{'var_smoothing': 12}"
        ],
        [
         "9",
         "{'var_smoothing': 2}",
         "{'var_smoothing': 1}",
         "{'var_smoothing': 1}",
         "{'var_smoothing': 1}",
         "{'var_smoothing': 2}"
        ],
        [
         "10",
         "{'var_smoothing': 1}",
         "{'var_smoothing': 5}",
         "{'var_smoothing': 1}",
         "{'var_smoothing': 3}",
         "{'var_smoothing': 1}"
        ],
        [
         "11",
         "{'var_smoothing': 1}",
         "{'var_smoothing': 1}",
         "{'var_smoothing': 13}",
         "{'var_smoothing': 1}",
         "{'var_smoothing': 1}"
        ],
        [
         "12",
         "{'var_smoothing': 6}",
         "{'var_smoothing': 1}",
         "{'var_smoothing': 2}",
         "{'var_smoothing': 3}",
         "{'var_smoothing': 3}"
        ],
        [
         "13",
         "{'var_smoothing': 6}",
         "{'var_smoothing': 2}",
         "{'var_smoothing': 1}",
         "{'var_smoothing': 1}",
         "{'var_smoothing': 4}"
        ],
        [
         "14",
         "{'var_smoothing': 2}",
         "{'var_smoothing': 1}",
         "{'var_smoothing': 1}",
         "{'var_smoothing': 1}",
         "{'var_smoothing': 2}"
        ],
        [
         "15",
         "{'var_smoothing': 2}",
         "{'var_smoothing': 1}",
         "{'var_smoothing': 1}",
         "{'var_smoothing': 1}",
         "{'var_smoothing': 1}"
        ],
        [
         "16",
         "{'var_smoothing': 1}",
         "{'var_smoothing': 1}",
         "{'var_smoothing': 1}",
         "{'var_smoothing': 2}",
         "{'var_smoothing': 2}"
        ],
        [
         "17",
         "{'var_smoothing': 1}",
         "{'var_smoothing': 2}",
         "{'var_smoothing': 2}",
         "{'var_smoothing': 4}",
         "{'var_smoothing': 1}"
        ],
        [
         "18",
         "{'var_smoothing': 1}",
         "{'var_smoothing': 1}",
         "{'var_smoothing': 2}",
         "{'var_smoothing': 3}",
         "{'var_smoothing': 5}"
        ],
        [
         "19",
         "{'var_smoothing': 1}",
         "{'var_smoothing': 2}",
         "{'var_smoothing': 2}",
         "{'var_smoothing': 4}",
         "{'var_smoothing': 1}"
        ],
        [
         "20",
         "{'var_smoothing': 1}",
         "{'var_smoothing': 1}",
         "{'var_smoothing': 1}",
         "{'var_smoothing': 3}",
         "{'var_smoothing': 1}"
        ],
        [
         "21",
         "{'var_smoothing': 2}",
         "{'var_smoothing': 2}",
         "{'var_smoothing': 1}",
         "{'var_smoothing': 1}",
         "{'var_smoothing': 6}"
        ],
        [
         "22",
         "{'var_smoothing': 3}",
         "{'var_smoothing': 1}",
         "{'var_smoothing': 2}",
         "{'var_smoothing': 5}",
         "{'var_smoothing': 1}"
        ],
        [
         "23",
         "{'var_smoothing': 6}",
         "{'var_smoothing': 1}",
         "{'var_smoothing': 2}",
         "{'var_smoothing': 1}",
         "{'var_smoothing': 2}"
        ],
        [
         "24",
         "{'var_smoothing': 1}",
         "{'var_smoothing': 1}",
         "{'var_smoothing': 1}",
         "{'var_smoothing': 1}",
         "{'var_smoothing': 2}"
        ],
        [
         "25",
         "{'var_smoothing': 2}",
         "{'var_smoothing': 3}",
         "{'var_smoothing': 1}",
         "{'var_smoothing': 2}",
         "{'var_smoothing': 2}"
        ],
        [
         "26",
         "{'var_smoothing': 2}",
         "{'var_smoothing': 1}",
         "{'var_smoothing': 2}",
         "{'var_smoothing': 1}",
         "{'var_smoothing': 1}"
        ],
        [
         "27",
         "{'var_smoothing': 1}",
         "{'var_smoothing': 1}",
         "{'var_smoothing': 2}",
         "{'var_smoothing': 1}",
         "{'var_smoothing': 2}"
        ],
        [
         "28",
         "{'var_smoothing': 1}",
         "{'var_smoothing': 5}",
         "{'var_smoothing': 2}",
         "{'var_smoothing': 1}",
         "{'var_smoothing': 1}"
        ],
        [
         "29",
         "{'var_smoothing': 2}",
         "{'var_smoothing': 2}",
         "{'var_smoothing': 1}",
         "{'var_smoothing': 1}",
         "{'var_smoothing': 1}"
        ],
        [
         "30",
         "{'var_smoothing': 1}",
         "{'var_smoothing': 1}",
         "{'var_smoothing': 3}",
         "{'var_smoothing': 4}",
         "{'var_smoothing': 1}"
        ],
        [
         "31",
         "{'var_smoothing': 1}",
         "{'var_smoothing': 5}",
         "{'var_smoothing': 1}",
         "{'var_smoothing': 1}",
         "{'var_smoothing': 13}"
        ],
        [
         "32",
         "{'var_smoothing': 1}",
         "{'var_smoothing': 1}",
         "{'var_smoothing': 1}",
         "{'var_smoothing': 1}",
         "{'var_smoothing': 2}"
        ],
        [
         "33",
         "{'var_smoothing': 2}",
         "{'var_smoothing': 1}",
         "{'var_smoothing': 1}",
         "{'var_smoothing': 2}",
         "{'var_smoothing': 1}"
        ],
        [
         "34",
         "{'var_smoothing': 1}",
         "{'var_smoothing': 1}",
         "{'var_smoothing': 2}",
         "{'var_smoothing': 1}",
         "{'var_smoothing': 1}"
        ],
        [
         "35",
         "{'var_smoothing': 2}",
         "{'var_smoothing': 1}",
         "{'var_smoothing': 1}",
         "{'var_smoothing': 4}",
         "{'var_smoothing': 1}"
        ],
        [
         "36",
         "{'var_smoothing': 1}",
         "{'var_smoothing': 1}",
         "{'var_smoothing': 1}",
         "{'var_smoothing': 5}",
         "{'var_smoothing': 1}"
        ],
        [
         "37",
         "{'var_smoothing': 2}",
         "{'var_smoothing': 1}",
         "{'var_smoothing': 1}",
         "{'var_smoothing': 1}",
         "{'var_smoothing': 2}"
        ],
        [
         "38",
         "{'var_smoothing': 1}",
         "{'var_smoothing': 1}",
         "{'var_smoothing': 5}",
         "{'var_smoothing': 1}",
         "{'var_smoothing': 1}"
        ],
        [
         "39",
         "{'var_smoothing': 1}",
         "{'var_smoothing': 1}",
         "{'var_smoothing': 4}",
         "{'var_smoothing': 1}",
         "{'var_smoothing': 3}"
        ],
        [
         "40",
         "{'var_smoothing': 1}",
         "{'var_smoothing': 1}",
         "{'var_smoothing': 3}",
         "{'var_smoothing': 2}",
         "{'var_smoothing': 2}"
        ],
        [
         "41",
         "{'var_smoothing': 2}",
         "{'var_smoothing': 3}",
         "{'var_smoothing': 7}",
         "{'var_smoothing': 2}",
         "{'var_smoothing': 13}"
        ],
        [
         "42",
         "{'var_smoothing': 4}",
         "{'var_smoothing': 2}",
         "{'var_smoothing': 1}",
         "{'var_smoothing': 1}",
         "{'var_smoothing': 1}"
        ],
        [
         "43",
         "{'var_smoothing': 2}",
         "{'var_smoothing': 2}",
         "{'var_smoothing': 1}",
         "{'var_smoothing': 3}",
         "{'var_smoothing': 1}"
        ],
        [
         "44",
         "{'var_smoothing': 1}",
         "{'var_smoothing': 1}",
         "{'var_smoothing': 1}",
         "{'var_smoothing': 1}",
         "{'var_smoothing': 2}"
        ],
        [
         "45",
         "{'var_smoothing': 15}",
         "{'var_smoothing': 1}",
         "{'var_smoothing': 1}",
         "{'var_smoothing': 1}",
         "{'var_smoothing': 12}"
        ],
        [
         "46",
         "{'var_smoothing': 1}",
         "{'var_smoothing': 1}",
         "{'var_smoothing': 2}",
         "{'var_smoothing': 1}",
         "{'var_smoothing': 5}"
        ],
        [
         "47",
         "{'var_smoothing': 1}",
         "{'var_smoothing': 2}",
         "{'var_smoothing': 1}",
         "{'var_smoothing': 1}",
         "{'var_smoothing': 1}"
        ],
        [
         "48",
         "{'var_smoothing': 1}",
         "{'var_smoothing': 2}",
         "{'var_smoothing': 2}",
         "{'var_smoothing': 1}",
         "{'var_smoothing': 1}"
        ],
        [
         "49",
         "{'var_smoothing': 1}",
         "{'var_smoothing': 1}",
         "{'var_smoothing': 1}",
         "{'var_smoothing': 3}",
         "{'var_smoothing': 1}"
        ]
       ],
       "shape": {
        "columns": 5,
        "rows": 100
       }
      },
      "text/html": [
       "<div>\n",
       "<style scoped>\n",
       "    .dataframe tbody tr th:only-of-type {\n",
       "        vertical-align: middle;\n",
       "    }\n",
       "\n",
       "    .dataframe tbody tr th {\n",
       "        vertical-align: top;\n",
       "    }\n",
       "\n",
       "    .dataframe thead th {\n",
       "        text-align: right;\n",
       "    }\n",
       "</style>\n",
       "<table border=\"1\" class=\"dataframe\">\n",
       "  <thead>\n",
       "    <tr style=\"text-align: right;\">\n",
       "      <th></th>\n",
       "      <th>inner_1</th>\n",
       "      <th>inner_2</th>\n",
       "      <th>inner_3</th>\n",
       "      <th>inner_4</th>\n",
       "      <th>inner_5</th>\n",
       "    </tr>\n",
       "  </thead>\n",
       "  <tbody>\n",
       "    <tr>\n",
       "      <th>0</th>\n",
       "      <td>{'var_smoothing': 1}</td>\n",
       "      <td>{'var_smoothing': 2}</td>\n",
       "      <td>{'var_smoothing': 2}</td>\n",
       "      <td>{'var_smoothing': 1}</td>\n",
       "      <td>{'var_smoothing': 3}</td>\n",
       "    </tr>\n",
       "    <tr>\n",
       "      <th>1</th>\n",
       "      <td>{'var_smoothing': 1}</td>\n",
       "      <td>{'var_smoothing': 1}</td>\n",
       "      <td>{'var_smoothing': 3}</td>\n",
       "      <td>{'var_smoothing': 1}</td>\n",
       "      <td>{'var_smoothing': 8}</td>\n",
       "    </tr>\n",
       "    <tr>\n",
       "      <th>2</th>\n",
       "      <td>{'var_smoothing': 1}</td>\n",
       "      <td>{'var_smoothing': 1}</td>\n",
       "      <td>{'var_smoothing': 1}</td>\n",
       "      <td>{'var_smoothing': 3}</td>\n",
       "      <td>{'var_smoothing': 1}</td>\n",
       "    </tr>\n",
       "    <tr>\n",
       "      <th>3</th>\n",
       "      <td>{'var_smoothing': 1}</td>\n",
       "      <td>{'var_smoothing': 5}</td>\n",
       "      <td>{'var_smoothing': 1}</td>\n",
       "      <td>{'var_smoothing': 7}</td>\n",
       "      <td>{'var_smoothing': 1}</td>\n",
       "    </tr>\n",
       "    <tr>\n",
       "      <th>4</th>\n",
       "      <td>{'var_smoothing': 1}</td>\n",
       "      <td>{'var_smoothing': 5}</td>\n",
       "      <td>{'var_smoothing': 4}</td>\n",
       "      <td>{'var_smoothing': 3}</td>\n",
       "      <td>{'var_smoothing': 1}</td>\n",
       "    </tr>\n",
       "    <tr>\n",
       "      <th>...</th>\n",
       "      <td>...</td>\n",
       "      <td>...</td>\n",
       "      <td>...</td>\n",
       "      <td>...</td>\n",
       "      <td>...</td>\n",
       "    </tr>\n",
       "    <tr>\n",
       "      <th>95</th>\n",
       "      <td>{'var_smoothing': 1}</td>\n",
       "      <td>{'var_smoothing': 4}</td>\n",
       "      <td>{'var_smoothing': 2}</td>\n",
       "      <td>{'var_smoothing': 1}</td>\n",
       "      <td>{'var_smoothing': 8}</td>\n",
       "    </tr>\n",
       "    <tr>\n",
       "      <th>96</th>\n",
       "      <td>{'var_smoothing': 1}</td>\n",
       "      <td>{'var_smoothing': 2}</td>\n",
       "      <td>{'var_smoothing': 3}</td>\n",
       "      <td>{'var_smoothing': 1}</td>\n",
       "      <td>{'var_smoothing': 1}</td>\n",
       "    </tr>\n",
       "    <tr>\n",
       "      <th>97</th>\n",
       "      <td>{'var_smoothing': 3}</td>\n",
       "      <td>{'var_smoothing': 2}</td>\n",
       "      <td>{'var_smoothing': 1}</td>\n",
       "      <td>{'var_smoothing': 5}</td>\n",
       "      <td>{'var_smoothing': 1}</td>\n",
       "    </tr>\n",
       "    <tr>\n",
       "      <th>98</th>\n",
       "      <td>{'var_smoothing': 3}</td>\n",
       "      <td>{'var_smoothing': 2}</td>\n",
       "      <td>{'var_smoothing': 2}</td>\n",
       "      <td>{'var_smoothing': 4}</td>\n",
       "      <td>{'var_smoothing': 1}</td>\n",
       "    </tr>\n",
       "    <tr>\n",
       "      <th>99</th>\n",
       "      <td>{'var_smoothing': 1}</td>\n",
       "      <td>{'var_smoothing': 2}</td>\n",
       "      <td>{'var_smoothing': 5}</td>\n",
       "      <td>{'var_smoothing': 1}</td>\n",
       "      <td>{'var_smoothing': 1}</td>\n",
       "    </tr>\n",
       "  </tbody>\n",
       "</table>\n",
       "<p>100 rows × 5 columns</p>\n",
       "</div>"
      ],
      "text/plain": [
       "                 inner_1               inner_2               inner_3  \\\n",
       "0   {'var_smoothing': 1}  {'var_smoothing': 2}  {'var_smoothing': 2}   \n",
       "1   {'var_smoothing': 1}  {'var_smoothing': 1}  {'var_smoothing': 3}   \n",
       "2   {'var_smoothing': 1}  {'var_smoothing': 1}  {'var_smoothing': 1}   \n",
       "3   {'var_smoothing': 1}  {'var_smoothing': 5}  {'var_smoothing': 1}   \n",
       "4   {'var_smoothing': 1}  {'var_smoothing': 5}  {'var_smoothing': 4}   \n",
       "..                   ...                   ...                   ...   \n",
       "95  {'var_smoothing': 1}  {'var_smoothing': 4}  {'var_smoothing': 2}   \n",
       "96  {'var_smoothing': 1}  {'var_smoothing': 2}  {'var_smoothing': 3}   \n",
       "97  {'var_smoothing': 3}  {'var_smoothing': 2}  {'var_smoothing': 1}   \n",
       "98  {'var_smoothing': 3}  {'var_smoothing': 2}  {'var_smoothing': 2}   \n",
       "99  {'var_smoothing': 1}  {'var_smoothing': 2}  {'var_smoothing': 5}   \n",
       "\n",
       "                 inner_4               inner_5  \n",
       "0   {'var_smoothing': 1}  {'var_smoothing': 3}  \n",
       "1   {'var_smoothing': 1}  {'var_smoothing': 8}  \n",
       "2   {'var_smoothing': 3}  {'var_smoothing': 1}  \n",
       "3   {'var_smoothing': 7}  {'var_smoothing': 1}  \n",
       "4   {'var_smoothing': 3}  {'var_smoothing': 1}  \n",
       "..                   ...                   ...  \n",
       "95  {'var_smoothing': 1}  {'var_smoothing': 8}  \n",
       "96  {'var_smoothing': 1}  {'var_smoothing': 1}  \n",
       "97  {'var_smoothing': 5}  {'var_smoothing': 1}  \n",
       "98  {'var_smoothing': 4}  {'var_smoothing': 1}  \n",
       "99  {'var_smoothing': 1}  {'var_smoothing': 1}  \n",
       "\n",
       "[100 rows x 5 columns]"
      ]
     },
     "execution_count": 56,
     "metadata": {},
     "output_type": "execute_result"
    }
   ],
   "source": [
    "df"
   ]
  },
  {
   "cell_type": "code",
   "execution_count": null,
   "id": "8f4fccb3",
   "metadata": {},
   "outputs": [
    {
     "name": "stdout",
     "output_type": "stream",
     "text": [
      "Average performance across 100 trials: 0.8702 ± 0.0212\n"
     ]
    }
   ],
   "source": [
    "##TEST met standardScaler. \n",
    "\n",
    "# difficult nested score to see best params. Perform grid-search with nested cross-validation for hyperparameter tuning\n",
    "\n",
    "NUM_TRIALS = 100\n",
    "nested_scores = np.zeros(NUM_TRIALS)\n",
    "Gaussian = GaussianNB()\n",
    "\n",
    "pipeline = Pipeline([\n",
    "    (\"scaler\", StandardScaler()),  # Add a scaler to the pipeline\n",
    "    (\"clf\", GaussianNB()),\n",
    "])\n",
    "\n",
    "param_grid = {\n",
    "    #\"var_smoothing\": [2,3,4, 1, 0.1, 0.001, 0.0001],\n",
    "    \"clf__var_smoothing\": [1, 2, 3, 4, 5, 6, 7, 8, 9, 10, 11, 12, 13, 14, 15],\n",
    "}\n",
    "\n",
    "nested_scores = np.zeros(NUM_TRIALS)\n",
    "all_best_params = []\n",
    "\n",
    "for i in range(NUM_TRIALS):\n",
    "    # Create outer and inner cross-validation objects\n",
    "    outer_cv = StratifiedKFold(n_splits=5, shuffle=True, random_state=i)\n",
    "    inner_cv = StratifiedKFold(n_splits=5, shuffle=True, random_state=i)\n",
    "\n",
    "    # Store the best parameters and scores for each outer fold\n",
    "    best_params = []\n",
    "    outer_scores = []\n",
    "\n",
    "    for train_idx, test_idx in outer_cv.split(X_selected, y):\n",
    "        X_train, X_test = X_selected[train_idx], X_selected[test_idx]\n",
    "        y_train, y_test = y[train_idx], y[test_idx]\n",
    "        \n",
    "        # Create a new GridSearchCV for each inner fold\n",
    "        clf = GridSearchCV(pipeline, param_grid, cv=inner_cv, scoring=\"roc_auc\", n_jobs=-1)\n",
    "        \n",
    "        # Fit GridSearchCV on the training data\n",
    "        clf.fit(X_train, y_train)\n",
    "        \n",
    "        # Get the best model from inner CV\n",
    "        best_model = clf.best_estimator_\n",
    "        \n",
    "        # Evaluate the best model on the outer test fold\n",
    "        y_pred = best_model.predict_proba(X_test)[:, 1]\n",
    "        outer_score = roc_auc_score(y_test, y_pred)\n",
    "        \n",
    "        # Append the best parameters and outer score\n",
    "        best_params.append(clf.best_params_)\n",
    "        outer_scores.append(outer_score)\n",
    "    \n",
    "    # Store the mean score for this trial\n",
    "    nested_scores[i] = np.mean(outer_scores)\n",
    "    all_best_params.append([i, best_params])\n",
    "\n",
    "test = [best_params for _, best_params in all_best_params]\n",
    "\n",
    "df = pd.DataFrame(test, columns=[\"inner_1\", \"inner_2\", \"inner_3\", \"inner_4\", \"inner_5\"])\n",
    "\n",
    "# Print results\n",
    "print(f\"Average performance across {NUM_TRIALS} trials: {np.mean(nested_scores):.4f} ± {np.std(nested_scores):.4f}\")\n"
   ]
  },
  {
   "cell_type": "code",
   "execution_count": 7,
   "id": "1033612f",
   "metadata": {},
   "outputs": [
    {
     "data": {
      "application/vnd.microsoft.datawrangler.viewer.v0+json": {
       "columns": [
        {
         "name": "index",
         "rawType": "int64",
         "type": "integer"
        },
        {
         "name": "inner_1",
         "rawType": "object",
         "type": "unknown"
        },
        {
         "name": "inner_2",
         "rawType": "object",
         "type": "unknown"
        },
        {
         "name": "inner_3",
         "rawType": "object",
         "type": "unknown"
        },
        {
         "name": "inner_4",
         "rawType": "object",
         "type": "unknown"
        },
        {
         "name": "inner_5",
         "rawType": "object",
         "type": "unknown"
        }
       ],
       "conversionMethod": "pd.DataFrame",
       "ref": "a23f4122-a46c-41d1-bd06-12bf64f2a8f3",
       "rows": [
        [
         "0",
         "{'clf__var_smoothing': 7}",
         "{'clf__var_smoothing': 7}",
         "{'clf__var_smoothing': 15}",
         "{'clf__var_smoothing': 4}",
         "{'clf__var_smoothing': 6}"
        ],
        [
         "1",
         "{'clf__var_smoothing': 7}",
         "{'clf__var_smoothing': 8}",
         "{'clf__var_smoothing': 11}",
         "{'clf__var_smoothing': 9}",
         "{'clf__var_smoothing': 2}"
        ],
        [
         "2",
         "{'clf__var_smoothing': 8}",
         "{'clf__var_smoothing': 11}",
         "{'clf__var_smoothing': 15}",
         "{'clf__var_smoothing': 14}",
         "{'clf__var_smoothing': 12}"
        ],
        [
         "3",
         "{'clf__var_smoothing': 15}",
         "{'clf__var_smoothing': 14}",
         "{'clf__var_smoothing': 13}",
         "{'clf__var_smoothing': 14}",
         "{'clf__var_smoothing': 3}"
        ],
        [
         "4",
         "{'clf__var_smoothing': 10}",
         "{'clf__var_smoothing': 6}",
         "{'clf__var_smoothing': 15}",
         "{'clf__var_smoothing': 12}",
         "{'clf__var_smoothing': 10}"
        ],
        [
         "5",
         "{'clf__var_smoothing': 10}",
         "{'clf__var_smoothing': 6}",
         "{'clf__var_smoothing': 9}",
         "{'clf__var_smoothing': 9}",
         "{'clf__var_smoothing': 9}"
        ],
        [
         "6",
         "{'clf__var_smoothing': 9}",
         "{'clf__var_smoothing': 13}",
         "{'clf__var_smoothing': 10}",
         "{'clf__var_smoothing': 11}",
         "{'clf__var_smoothing': 5}"
        ],
        [
         "7",
         "{'clf__var_smoothing': 11}",
         "{'clf__var_smoothing': 14}",
         "{'clf__var_smoothing': 15}",
         "{'clf__var_smoothing': 15}",
         "{'clf__var_smoothing': 7}"
        ],
        [
         "8",
         "{'clf__var_smoothing': 12}",
         "{'clf__var_smoothing': 13}",
         "{'clf__var_smoothing': 9}",
         "{'clf__var_smoothing': 12}",
         "{'clf__var_smoothing': 9}"
        ],
        [
         "9",
         "{'clf__var_smoothing': 7}",
         "{'clf__var_smoothing': 5}",
         "{'clf__var_smoothing': 12}",
         "{'clf__var_smoothing': 7}",
         "{'clf__var_smoothing': 12}"
        ],
        [
         "10",
         "{'clf__var_smoothing': 15}",
         "{'clf__var_smoothing': 6}",
         "{'clf__var_smoothing': 15}",
         "{'clf__var_smoothing': 15}",
         "{'clf__var_smoothing': 2}"
        ],
        [
         "11",
         "{'clf__var_smoothing': 14}",
         "{'clf__var_smoothing': 14}",
         "{'clf__var_smoothing': 14}",
         "{'clf__var_smoothing': 13}",
         "{'clf__var_smoothing': 12}"
        ],
        [
         "12",
         "{'clf__var_smoothing': 10}",
         "{'clf__var_smoothing': 11}",
         "{'clf__var_smoothing': 13}",
         "{'clf__var_smoothing': 5}",
         "{'clf__var_smoothing': 13}"
        ],
        [
         "13",
         "{'clf__var_smoothing': 7}",
         "{'clf__var_smoothing': 14}",
         "{'clf__var_smoothing': 4}",
         "{'clf__var_smoothing': 11}",
         "{'clf__var_smoothing': 7}"
        ],
        [
         "14",
         "{'clf__var_smoothing': 7}",
         "{'clf__var_smoothing': 11}",
         "{'clf__var_smoothing': 15}",
         "{'clf__var_smoothing': 13}",
         "{'clf__var_smoothing': 10}"
        ],
        [
         "15",
         "{'clf__var_smoothing': 14}",
         "{'clf__var_smoothing': 14}",
         "{'clf__var_smoothing': 15}",
         "{'clf__var_smoothing': 13}",
         "{'clf__var_smoothing': 8}"
        ],
        [
         "16",
         "{'clf__var_smoothing': 7}",
         "{'clf__var_smoothing': 12}",
         "{'clf__var_smoothing': 15}",
         "{'clf__var_smoothing': 11}",
         "{'clf__var_smoothing': 12}"
        ],
        [
         "17",
         "{'clf__var_smoothing': 15}",
         "{'clf__var_smoothing': 6}",
         "{'clf__var_smoothing': 7}",
         "{'clf__var_smoothing': 14}",
         "{'clf__var_smoothing': 14}"
        ],
        [
         "18",
         "{'clf__var_smoothing': 7}",
         "{'clf__var_smoothing': 14}",
         "{'clf__var_smoothing': 14}",
         "{'clf__var_smoothing': 11}",
         "{'clf__var_smoothing': 15}"
        ],
        [
         "19",
         "{'clf__var_smoothing': 3}",
         "{'clf__var_smoothing': 14}",
         "{'clf__var_smoothing': 6}",
         "{'clf__var_smoothing': 3}",
         "{'clf__var_smoothing': 6}"
        ],
        [
         "20",
         "{'clf__var_smoothing': 13}",
         "{'clf__var_smoothing': 9}",
         "{'clf__var_smoothing': 10}",
         "{'clf__var_smoothing': 15}",
         "{'clf__var_smoothing': 8}"
        ],
        [
         "21",
         "{'clf__var_smoothing': 15}",
         "{'clf__var_smoothing': 3}",
         "{'clf__var_smoothing': 12}",
         "{'clf__var_smoothing': 11}",
         "{'clf__var_smoothing': 11}"
        ],
        [
         "22",
         "{'clf__var_smoothing': 12}",
         "{'clf__var_smoothing': 6}",
         "{'clf__var_smoothing': 11}",
         "{'clf__var_smoothing': 9}",
         "{'clf__var_smoothing': 15}"
        ],
        [
         "23",
         "{'clf__var_smoothing': 4}",
         "{'clf__var_smoothing': 7}",
         "{'clf__var_smoothing': 8}",
         "{'clf__var_smoothing': 5}",
         "{'clf__var_smoothing': 15}"
        ],
        [
         "24",
         "{'clf__var_smoothing': 5}",
         "{'clf__var_smoothing': 13}",
         "{'clf__var_smoothing': 5}",
         "{'clf__var_smoothing': 11}",
         "{'clf__var_smoothing': 7}"
        ],
        [
         "25",
         "{'clf__var_smoothing': 6}",
         "{'clf__var_smoothing': 9}",
         "{'clf__var_smoothing': 11}",
         "{'clf__var_smoothing': 14}",
         "{'clf__var_smoothing': 7}"
        ],
        [
         "26",
         "{'clf__var_smoothing': 6}",
         "{'clf__var_smoothing': 12}",
         "{'clf__var_smoothing': 15}",
         "{'clf__var_smoothing': 10}",
         "{'clf__var_smoothing': 11}"
        ],
        [
         "27",
         "{'clf__var_smoothing': 5}",
         "{'clf__var_smoothing': 10}",
         "{'clf__var_smoothing': 4}",
         "{'clf__var_smoothing': 11}",
         "{'clf__var_smoothing': 3}"
        ],
        [
         "28",
         "{'clf__var_smoothing': 10}",
         "{'clf__var_smoothing': 6}",
         "{'clf__var_smoothing': 9}",
         "{'clf__var_smoothing': 13}",
         "{'clf__var_smoothing': 8}"
        ],
        [
         "29",
         "{'clf__var_smoothing': 7}",
         "{'clf__var_smoothing': 12}",
         "{'clf__var_smoothing': 15}",
         "{'clf__var_smoothing': 7}",
         "{'clf__var_smoothing': 15}"
        ],
        [
         "30",
         "{'clf__var_smoothing': 7}",
         "{'clf__var_smoothing': 13}",
         "{'clf__var_smoothing': 5}",
         "{'clf__var_smoothing': 8}",
         "{'clf__var_smoothing': 12}"
        ],
        [
         "31",
         "{'clf__var_smoothing': 9}",
         "{'clf__var_smoothing': 15}",
         "{'clf__var_smoothing': 6}",
         "{'clf__var_smoothing': 14}",
         "{'clf__var_smoothing': 11}"
        ],
        [
         "32",
         "{'clf__var_smoothing': 12}",
         "{'clf__var_smoothing': 15}",
         "{'clf__var_smoothing': 2}",
         "{'clf__var_smoothing': 12}",
         "{'clf__var_smoothing': 2}"
        ],
        [
         "33",
         "{'clf__var_smoothing': 13}",
         "{'clf__var_smoothing': 6}",
         "{'clf__var_smoothing': 15}",
         "{'clf__var_smoothing': 12}",
         "{'clf__var_smoothing': 7}"
        ],
        [
         "34",
         "{'clf__var_smoothing': 15}",
         "{'clf__var_smoothing': 15}",
         "{'clf__var_smoothing': 11}",
         "{'clf__var_smoothing': 12}",
         "{'clf__var_smoothing': 11}"
        ],
        [
         "35",
         "{'clf__var_smoothing': 9}",
         "{'clf__var_smoothing': 2}",
         "{'clf__var_smoothing': 13}",
         "{'clf__var_smoothing': 14}",
         "{'clf__var_smoothing': 14}"
        ],
        [
         "36",
         "{'clf__var_smoothing': 7}",
         "{'clf__var_smoothing': 12}",
         "{'clf__var_smoothing': 4}",
         "{'clf__var_smoothing': 14}",
         "{'clf__var_smoothing': 5}"
        ],
        [
         "37",
         "{'clf__var_smoothing': 13}",
         "{'clf__var_smoothing': 12}",
         "{'clf__var_smoothing': 11}",
         "{'clf__var_smoothing': 3}",
         "{'clf__var_smoothing': 6}"
        ],
        [
         "38",
         "{'clf__var_smoothing': 6}",
         "{'clf__var_smoothing': 6}",
         "{'clf__var_smoothing': 12}",
         "{'clf__var_smoothing': 13}",
         "{'clf__var_smoothing': 10}"
        ],
        [
         "39",
         "{'clf__var_smoothing': 10}",
         "{'clf__var_smoothing': 5}",
         "{'clf__var_smoothing': 15}",
         "{'clf__var_smoothing': 15}",
         "{'clf__var_smoothing': 11}"
        ],
        [
         "40",
         "{'clf__var_smoothing': 8}",
         "{'clf__var_smoothing': 13}",
         "{'clf__var_smoothing': 2}",
         "{'clf__var_smoothing': 13}",
         "{'clf__var_smoothing': 8}"
        ],
        [
         "41",
         "{'clf__var_smoothing': 12}",
         "{'clf__var_smoothing': 8}",
         "{'clf__var_smoothing': 10}",
         "{'clf__var_smoothing': 11}",
         "{'clf__var_smoothing': 2}"
        ],
        [
         "42",
         "{'clf__var_smoothing': 12}",
         "{'clf__var_smoothing': 8}",
         "{'clf__var_smoothing': 12}",
         "{'clf__var_smoothing': 9}",
         "{'clf__var_smoothing': 15}"
        ],
        [
         "43",
         "{'clf__var_smoothing': 4}",
         "{'clf__var_smoothing': 12}",
         "{'clf__var_smoothing': 15}",
         "{'clf__var_smoothing': 10}",
         "{'clf__var_smoothing': 14}"
        ],
        [
         "44",
         "{'clf__var_smoothing': 12}",
         "{'clf__var_smoothing': 14}",
         "{'clf__var_smoothing': 15}",
         "{'clf__var_smoothing': 11}",
         "{'clf__var_smoothing': 7}"
        ],
        [
         "45",
         "{'clf__var_smoothing': 11}",
         "{'clf__var_smoothing': 7}",
         "{'clf__var_smoothing': 9}",
         "{'clf__var_smoothing': 6}",
         "{'clf__var_smoothing': 6}"
        ],
        [
         "46",
         "{'clf__var_smoothing': 7}",
         "{'clf__var_smoothing': 15}",
         "{'clf__var_smoothing': 5}",
         "{'clf__var_smoothing': 8}",
         "{'clf__var_smoothing': 15}"
        ],
        [
         "47",
         "{'clf__var_smoothing': 4}",
         "{'clf__var_smoothing': 14}",
         "{'clf__var_smoothing': 10}",
         "{'clf__var_smoothing': 4}",
         "{'clf__var_smoothing': 3}"
        ],
        [
         "48",
         "{'clf__var_smoothing': 7}",
         "{'clf__var_smoothing': 7}",
         "{'clf__var_smoothing': 6}",
         "{'clf__var_smoothing': 6}",
         "{'clf__var_smoothing': 4}"
        ],
        [
         "49",
         "{'clf__var_smoothing': 12}",
         "{'clf__var_smoothing': 5}",
         "{'clf__var_smoothing': 7}",
         "{'clf__var_smoothing': 13}",
         "{'clf__var_smoothing': 11}"
        ]
       ],
       "shape": {
        "columns": 5,
        "rows": 100
       }
      },
      "text/html": [
       "<div>\n",
       "<style scoped>\n",
       "    .dataframe tbody tr th:only-of-type {\n",
       "        vertical-align: middle;\n",
       "    }\n",
       "\n",
       "    .dataframe tbody tr th {\n",
       "        vertical-align: top;\n",
       "    }\n",
       "\n",
       "    .dataframe thead th {\n",
       "        text-align: right;\n",
       "    }\n",
       "</style>\n",
       "<table border=\"1\" class=\"dataframe\">\n",
       "  <thead>\n",
       "    <tr style=\"text-align: right;\">\n",
       "      <th></th>\n",
       "      <th>inner_1</th>\n",
       "      <th>inner_2</th>\n",
       "      <th>inner_3</th>\n",
       "      <th>inner_4</th>\n",
       "      <th>inner_5</th>\n",
       "    </tr>\n",
       "  </thead>\n",
       "  <tbody>\n",
       "    <tr>\n",
       "      <th>0</th>\n",
       "      <td>{'clf__var_smoothing': 7}</td>\n",
       "      <td>{'clf__var_smoothing': 7}</td>\n",
       "      <td>{'clf__var_smoothing': 15}</td>\n",
       "      <td>{'clf__var_smoothing': 4}</td>\n",
       "      <td>{'clf__var_smoothing': 6}</td>\n",
       "    </tr>\n",
       "    <tr>\n",
       "      <th>1</th>\n",
       "      <td>{'clf__var_smoothing': 7}</td>\n",
       "      <td>{'clf__var_smoothing': 8}</td>\n",
       "      <td>{'clf__var_smoothing': 11}</td>\n",
       "      <td>{'clf__var_smoothing': 9}</td>\n",
       "      <td>{'clf__var_smoothing': 2}</td>\n",
       "    </tr>\n",
       "    <tr>\n",
       "      <th>2</th>\n",
       "      <td>{'clf__var_smoothing': 8}</td>\n",
       "      <td>{'clf__var_smoothing': 11}</td>\n",
       "      <td>{'clf__var_smoothing': 15}</td>\n",
       "      <td>{'clf__var_smoothing': 14}</td>\n",
       "      <td>{'clf__var_smoothing': 12}</td>\n",
       "    </tr>\n",
       "    <tr>\n",
       "      <th>3</th>\n",
       "      <td>{'clf__var_smoothing': 15}</td>\n",
       "      <td>{'clf__var_smoothing': 14}</td>\n",
       "      <td>{'clf__var_smoothing': 13}</td>\n",
       "      <td>{'clf__var_smoothing': 14}</td>\n",
       "      <td>{'clf__var_smoothing': 3}</td>\n",
       "    </tr>\n",
       "    <tr>\n",
       "      <th>4</th>\n",
       "      <td>{'clf__var_smoothing': 10}</td>\n",
       "      <td>{'clf__var_smoothing': 6}</td>\n",
       "      <td>{'clf__var_smoothing': 15}</td>\n",
       "      <td>{'clf__var_smoothing': 12}</td>\n",
       "      <td>{'clf__var_smoothing': 10}</td>\n",
       "    </tr>\n",
       "    <tr>\n",
       "      <th>...</th>\n",
       "      <td>...</td>\n",
       "      <td>...</td>\n",
       "      <td>...</td>\n",
       "      <td>...</td>\n",
       "      <td>...</td>\n",
       "    </tr>\n",
       "    <tr>\n",
       "      <th>95</th>\n",
       "      <td>{'clf__var_smoothing': 14}</td>\n",
       "      <td>{'clf__var_smoothing': 9}</td>\n",
       "      <td>{'clf__var_smoothing': 8}</td>\n",
       "      <td>{'clf__var_smoothing': 12}</td>\n",
       "      <td>{'clf__var_smoothing': 5}</td>\n",
       "    </tr>\n",
       "    <tr>\n",
       "      <th>96</th>\n",
       "      <td>{'clf__var_smoothing': 7}</td>\n",
       "      <td>{'clf__var_smoothing': 3}</td>\n",
       "      <td>{'clf__var_smoothing': 15}</td>\n",
       "      <td>{'clf__var_smoothing': 5}</td>\n",
       "      <td>{'clf__var_smoothing': 12}</td>\n",
       "    </tr>\n",
       "    <tr>\n",
       "      <th>97</th>\n",
       "      <td>{'clf__var_smoothing': 11}</td>\n",
       "      <td>{'clf__var_smoothing': 14}</td>\n",
       "      <td>{'clf__var_smoothing': 6}</td>\n",
       "      <td>{'clf__var_smoothing': 14}</td>\n",
       "      <td>{'clf__var_smoothing': 12}</td>\n",
       "    </tr>\n",
       "    <tr>\n",
       "      <th>98</th>\n",
       "      <td>{'clf__var_smoothing': 14}</td>\n",
       "      <td>{'clf__var_smoothing': 12}</td>\n",
       "      <td>{'clf__var_smoothing': 9}</td>\n",
       "      <td>{'clf__var_smoothing': 11}</td>\n",
       "      <td>{'clf__var_smoothing': 12}</td>\n",
       "    </tr>\n",
       "    <tr>\n",
       "      <th>99</th>\n",
       "      <td>{'clf__var_smoothing': 6}</td>\n",
       "      <td>{'clf__var_smoothing': 4}</td>\n",
       "      <td>{'clf__var_smoothing': 14}</td>\n",
       "      <td>{'clf__var_smoothing': 14}</td>\n",
       "      <td>{'clf__var_smoothing': 15}</td>\n",
       "    </tr>\n",
       "  </tbody>\n",
       "</table>\n",
       "<p>100 rows × 5 columns</p>\n",
       "</div>"
      ],
      "text/plain": [
       "                       inner_1                     inner_2  \\\n",
       "0    {'clf__var_smoothing': 7}   {'clf__var_smoothing': 7}   \n",
       "1    {'clf__var_smoothing': 7}   {'clf__var_smoothing': 8}   \n",
       "2    {'clf__var_smoothing': 8}  {'clf__var_smoothing': 11}   \n",
       "3   {'clf__var_smoothing': 15}  {'clf__var_smoothing': 14}   \n",
       "4   {'clf__var_smoothing': 10}   {'clf__var_smoothing': 6}   \n",
       "..                         ...                         ...   \n",
       "95  {'clf__var_smoothing': 14}   {'clf__var_smoothing': 9}   \n",
       "96   {'clf__var_smoothing': 7}   {'clf__var_smoothing': 3}   \n",
       "97  {'clf__var_smoothing': 11}  {'clf__var_smoothing': 14}   \n",
       "98  {'clf__var_smoothing': 14}  {'clf__var_smoothing': 12}   \n",
       "99   {'clf__var_smoothing': 6}   {'clf__var_smoothing': 4}   \n",
       "\n",
       "                       inner_3                     inner_4  \\\n",
       "0   {'clf__var_smoothing': 15}   {'clf__var_smoothing': 4}   \n",
       "1   {'clf__var_smoothing': 11}   {'clf__var_smoothing': 9}   \n",
       "2   {'clf__var_smoothing': 15}  {'clf__var_smoothing': 14}   \n",
       "3   {'clf__var_smoothing': 13}  {'clf__var_smoothing': 14}   \n",
       "4   {'clf__var_smoothing': 15}  {'clf__var_smoothing': 12}   \n",
       "..                         ...                         ...   \n",
       "95   {'clf__var_smoothing': 8}  {'clf__var_smoothing': 12}   \n",
       "96  {'clf__var_smoothing': 15}   {'clf__var_smoothing': 5}   \n",
       "97   {'clf__var_smoothing': 6}  {'clf__var_smoothing': 14}   \n",
       "98   {'clf__var_smoothing': 9}  {'clf__var_smoothing': 11}   \n",
       "99  {'clf__var_smoothing': 14}  {'clf__var_smoothing': 14}   \n",
       "\n",
       "                       inner_5  \n",
       "0    {'clf__var_smoothing': 6}  \n",
       "1    {'clf__var_smoothing': 2}  \n",
       "2   {'clf__var_smoothing': 12}  \n",
       "3    {'clf__var_smoothing': 3}  \n",
       "4   {'clf__var_smoothing': 10}  \n",
       "..                         ...  \n",
       "95   {'clf__var_smoothing': 5}  \n",
       "96  {'clf__var_smoothing': 12}  \n",
       "97  {'clf__var_smoothing': 12}  \n",
       "98  {'clf__var_smoothing': 12}  \n",
       "99  {'clf__var_smoothing': 15}  \n",
       "\n",
       "[100 rows x 5 columns]"
      ]
     },
     "execution_count": 7,
     "metadata": {},
     "output_type": "execute_result"
    }
   ],
   "source": [
    "df"
   ]
  },
  {
   "cell_type": "code",
   "execution_count": 36,
   "id": "0afe78a7",
   "metadata": {},
   "outputs": [
    {
     "name": "stdout",
     "output_type": "stream",
     "text": [
      "gemiddeld = 0.8674458398744112 95% Confidence Interval: 0.8633 to 0.8716\n"
     ]
    }
   ],
   "source": [
    "# Calculate the confidence interval for the nested scores\n",
    "\n",
    "confidence = 0.95  # 95% confidence level\n",
    "mean_score = np.mean(nested_scores)\n",
    "std_error = np.std(nested_scores, ddof=1) / np.sqrt(len(nested_scores))  # Standard error of the mean\n",
    "confidence_interval_lower = mean_score - (std_error * 1.96)  # Z-score for 95% confidence interval\n",
    "confidence_interval_upper = mean_score + (std_error * 1.96)  # Z-score for 95% confidence interval\n",
    "\n",
    "print(f\"gemiddeld = {mean_score} 95% Confidence Interval: {confidence_interval_lower:.4f} to {confidence_interval_upper:.4f}\")"
   ]
  },
  {
   "cell_type": "code",
   "execution_count": 57,
   "id": "b695f260",
   "metadata": {},
   "outputs": [
    {
     "data": {
      "text/plain": [
       "{'var_smoothing': 1}     287\n",
       "{'var_smoothing': 2}      97\n",
       "{'var_smoothing': 3}      42\n",
       "{'var_smoothing': 4}      23\n",
       "{'var_smoothing': 5}      21\n",
       "{'var_smoothing': 6}       9\n",
       "{'var_smoothing': 8}       5\n",
       "{'var_smoothing': 7}       4\n",
       "{'var_smoothing': 13}      3\n",
       "{'var_smoothing': 12}      2\n",
       "Name: count, dtype: int64"
      ]
     },
     "execution_count": 57,
     "metadata": {},
     "output_type": "execute_result"
    }
   ],
   "source": [
    "best_params = pd.Series(df.values.ravel())\n",
    "best_params.value_counts()[0:10]"
   ]
  },
  {
   "cell_type": "code",
   "execution_count": 45,
   "id": "d7f16fde",
   "metadata": {},
   "outputs": [],
   "source": [
    "# train and save final model\n",
    "\n",
    "# Save the final trained bayes model along with feature masks and scaler\n",
    "\n",
    "# Step 1: Standardize and select features\n",
    "scaler_standard = StandardScaler()\n",
    "scaler_standard.fit(X)\n",
    "X_Scaled = scaler_standard.transform(X)\n",
    "X_selected = X_Scaled[:, feature_mask]\n",
    "\n",
    "\n",
    "\n",
    "# Step 3: Initialize the custom bayes classifier\n",
    "Bayes = GaussianNB(var_smoothing=2)\n",
    "\n",
    "\n",
    "# Step 4: Train the final KNN model on the selected features\n",
    "Bayes.fit(X_selected, y)\n",
    "\n",
    "# Step 7: Save the trained KNN model, PCA transformer and scaler to disk\n",
    "with open(r'BayesFinal\\Bayes_model.pkl', 'wb') as file:\n",
    "    pickle.dump(Bayes, file)  # Save the trained KNN model\n",
    "\n",
    "\n",
    "with open(r'BayesFinal\\Bayes_Scaler.pkl', 'wb') as file:\n",
    "    pickle.dump(scaler_standard, file)  # Save the scaler used for standardization\n"
   ]
  }
 ],
 "metadata": {
  "kernelspec": {
   "display_name": "Python 3",
   "language": "python",
   "name": "python3"
  },
  "language_info": {
   "codemirror_mode": {
    "name": "ipython",
    "version": 3
   },
   "file_extension": ".py",
   "mimetype": "text/x-python",
   "name": "python",
   "nbconvert_exporter": "python",
   "pygments_lexer": "ipython3",
   "version": "3.12.9"
  }
 },
 "nbformat": 4,
 "nbformat_minor": 5
}
