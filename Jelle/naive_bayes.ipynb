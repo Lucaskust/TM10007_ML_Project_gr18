{
 "cells": [
  {
   "cell_type": "code",
   "execution_count": 2,
   "id": "5d8b2354",
   "metadata": {},
   "outputs": [
    {
     "name": "stdout",
     "output_type": "stream",
     "text": [
      "Totaal aantal missende waarden: 0\n"
     ]
    }
   ],
   "source": [
    "# 📦 Vereiste imports\n",
    "import pandas as pd\n",
    "import numpy as np\n",
    "import matplotlib.pyplot as plt\n",
    "import seaborn as sns\n",
    "\n",
    "# Scikit-learn preprocessing, feature selection, and decomposition\n",
    "from sklearn.preprocessing import StandardScaler, LabelEncoder\n",
    "from sklearn.decomposition import PCA\n",
    "from sklearn.feature_selection import SelectKBest, RFECV, SequentialFeatureSelector, f_classif\n",
    "\n",
    "# Scikit-learn models and evaluation\n",
    "from sklearn.ensemble import RandomForestClassifier\n",
    "from sklearn.neighbors import KNeighborsClassifier\n",
    "from sklearn.naive_bayes import GaussianNB\n",
    "from sklearn.model_selection import (\n",
    "    StratifiedKFold,\n",
    "    train_test_split,\n",
    "    cross_validate,\n",
    "    cross_val_score,\n",
    "    GridSearchCV,\n",
    ")\n",
    "from sklearn.metrics import accuracy_score, f1_score, make_scorer\n",
    "from sklearn.pipeline import Pipeline\n",
    "from sklearn.metrics import roc_auc_score\n",
    "\n",
    "# Additional imports\n",
    "import pickle\n",
    "\n",
    "\n",
    "# load data + feature_mask\n",
    "\n",
    "data = pd.read_excel(r\"..\\..\\TrainData.xlsx\")\n",
    "\n",
    "with open(r\"..\\..\\mask_selected_features.pkl\", \"rb\") as f:\n",
    "    feature_mask = pickle.load(f)\n",
    "\n",
    "\n",
    "# Data preprocessing\n",
    "\n",
    "data = data.drop_duplicates()\n",
    "\n",
    "# 🎯 Stap 3 – Split in features en labels\n",
    "X = data.drop(columns=\"label\")\n",
    "y = data[\"label\"]\n",
    "\n",
    "# 🔁 Zet y om naar numeriek met behoud van pandas Series\n",
    "label_encoder = LabelEncoder()\n",
    "y = pd.Series(label_encoder.fit_transform(y), index=y.index)\n",
    "\n",
    "# ❓ Hoeveel missende waarden blijven over?\n",
    "print(\"Totaal aantal missende waarden:\", X.isnull().sum().sum())\n",
    "\n",
    "# ⚠️ Stap 4 – NaNs imputer (mediaan)\n",
    "X = X.fillna(X.median(numeric_only=True))\n",
    "\n",
    "\n",
    "#Data selectie + normalisatie\n",
    "\n",
    "X_Scaled = StandardScaler().fit_transform(X)\n",
    "X_selected = X_Scaled[:, feature_mask]\n",
    "\n"
   ]
  },
  {
   "cell_type": "code",
   "execution_count": 44,
   "id": "b1290367",
   "metadata": {},
   "outputs": [
    {
     "name": "stdout",
     "output_type": "stream",
     "text": [
      "[0.84693878 0.87755102 0.75       0.9744898  0.8956044 ]\n",
      "0.8689167974882261\n"
     ]
    }
   ],
   "source": [
    "#baseline test\n",
    "clf = GaussianNB(var_smoothing=2)\n",
    "score = cross_val_score(clf, X_selected, y, cv=StratifiedKFold(5), scoring=\"roc_auc\")\n",
    "print(score)\n",
    "print(np.mean(score))"
   ]
  },
  {
   "cell_type": "code",
   "execution_count": 35,
   "id": "254ca092",
   "metadata": {},
   "outputs": [
    {
     "name": "stdout",
     "output_type": "stream",
     "text": [
      "Average performance across 100 trials: 0.8674 ± 0.0210\n"
     ]
    }
   ],
   "source": [
    "# difficult nested score to see best params. Perform grid-search with nested cross-validation for hyperparameter tuning\n",
    "\n",
    "NUM_TRIALS = 100\n",
    "nested_scores = np.zeros(NUM_TRIALS)\n",
    "Gaussian = GaussianNB()\n",
    "\n",
    "\n",
    "param_grid = {\n",
    "    #\"var_smoothing\": [2,3,4, 1, 0.1, 0.001, 0.0001],\n",
    "    \"var_smoothing\": [1, 2, 3, 4, 5, 6, 7, 8, 9, 10, 11, 12, 13, 14, 15],\n",
    "}\n",
    "\n",
    "nested_scores = np.zeros(NUM_TRIALS)\n",
    "all_best_params = []\n",
    "\n",
    "for i in range(NUM_TRIALS):\n",
    "    # Create outer and inner cross-validation objects\n",
    "    outer_cv = StratifiedKFold(n_splits=5, shuffle=True, random_state=i)\n",
    "    inner_cv = StratifiedKFold(n_splits=5, shuffle=True, random_state=i)\n",
    "\n",
    "    # Store the best parameters and scores for each outer fold\n",
    "    best_params = []\n",
    "    outer_scores = []\n",
    "\n",
    "    for train_idx, test_idx in outer_cv.split(X_selected, y):\n",
    "        X_train, X_test = X_selected[train_idx], X_selected[test_idx]\n",
    "        y_train, y_test = y[train_idx], y[test_idx]\n",
    "        \n",
    "        # Create a new GridSearchCV for each inner fold\n",
    "        clf = GridSearchCV(Gaussian, param_grid, cv=inner_cv, scoring=\"roc_auc\", n_jobs=-1)\n",
    "        \n",
    "        # Fit GridSearchCV on the training data\n",
    "        clf.fit(X_train, y_train)\n",
    "        \n",
    "        # Get the best model from inner CV\n",
    "        best_model = clf.best_estimator_\n",
    "        \n",
    "        # Evaluate the best model on the outer test fold\n",
    "        y_pred = best_model.predict_proba(X_test)[:, 1]\n",
    "        outer_score = roc_auc_score(y_test, y_pred)\n",
    "        \n",
    "        # Append the best parameters and outer score\n",
    "        best_params.append(clf.best_params_)\n",
    "        outer_scores.append(outer_score)\n",
    "    \n",
    "    # Store the mean score for this trial\n",
    "    nested_scores[i] = np.mean(outer_scores)\n",
    "    all_best_params.append([i, best_params])\n",
    "\n",
    "test = [best_params for _, best_params in all_best_params]\n",
    "\n",
    "df = pd.DataFrame(test, columns=[\"inner_1\", \"inner_2\", \"inner_3\", \"inner_4\", \"inner_5\"])\n",
    "\n",
    "with open(r\"output_grid_searches\\Bayes_nested_scores.pkl\", \"wb\") as f:\n",
    "    pickle.dump(nested_scores, f)\n",
    "\n",
    "with open(r\"output_grid_searches\\Bayes_best_params.pkl\", \"wb\") as f:\n",
    "    pickle.dump(df, f)\n",
    "\n",
    "# Print results\n",
    "print(f\"Average performance across {NUM_TRIALS} trials: {np.mean(nested_scores):.4f} ± {np.std(nested_scores):.4f}\")\n"
   ]
  },
  {
   "cell_type": "code",
   "execution_count": 36,
   "id": "0afe78a7",
   "metadata": {},
   "outputs": [
    {
     "name": "stdout",
     "output_type": "stream",
     "text": [
      "gemiddeld = 0.8674458398744112 95% Confidence Interval: 0.8633 to 0.8716\n"
     ]
    }
   ],
   "source": [
    "# Calculate the confidence interval for the nested scores\n",
    "\n",
    "confidence = 0.95  # 95% confidence level\n",
    "mean_score = np.mean(nested_scores)\n",
    "std_error = np.std(nested_scores, ddof=1) / np.sqrt(len(nested_scores))  # Standard error of the mean\n",
    "confidence_interval_lower = mean_score - (std_error * 1.96)  # Z-score for 95% confidence interval\n",
    "confidence_interval_upper = mean_score + (std_error * 1.96)  # Z-score for 95% confidence interval\n",
    "\n",
    "print(f\"gemiddeld = {mean_score} 95% Confidence Interval: {confidence_interval_lower:.4f} to {confidence_interval_upper:.4f}\")"
   ]
  },
  {
   "cell_type": "code",
   "execution_count": 37,
   "id": "b695f260",
   "metadata": {},
   "outputs": [
    {
     "data": {
      "text/plain": [
       "{'var_smoothing': 2}     52\n",
       "{'var_smoothing': 4}     43\n",
       "{'var_smoothing': 13}    39\n",
       "{'var_smoothing': 6}     39\n",
       "{'var_smoothing': 5}     38\n",
       "{'var_smoothing': 14}    35\n",
       "{'var_smoothing': 3}     35\n",
       "{'var_smoothing': 11}    34\n",
       "{'var_smoothing': 12}    31\n",
       "{'var_smoothing': 15}    29\n",
       "Name: count, dtype: int64"
      ]
     },
     "execution_count": 37,
     "metadata": {},
     "output_type": "execute_result"
    }
   ],
   "source": [
    "best_params = pd.Series(df.values.ravel())\n",
    "best_params.value_counts()[0:10]"
   ]
  },
  {
   "cell_type": "code",
   "execution_count": 45,
   "id": "d7f16fde",
   "metadata": {},
   "outputs": [],
   "source": [
    "# train and save final model\n",
    "\n",
    "# Save the final trained bayes model along with feature masks and scaler\n",
    "\n",
    "# Step 1: Standardize and select features\n",
    "scaler_standard = StandardScaler()\n",
    "scaler_standard.fit(X)\n",
    "X_Scaled = scaler_standard.transform(X)\n",
    "X_selected = X_Scaled[:, feature_mask]\n",
    "\n",
    "\n",
    "\n",
    "# Step 3: Initialize the custom bayes classifier\n",
    "Bayes = GaussianNB(var_smoothing=2)\n",
    "\n",
    "\n",
    "# Step 4: Train the final KNN model on the selected features\n",
    "Bayes.fit(X_selected, y)\n",
    "\n",
    "# Step 7: Save the trained KNN model, PCA transformer and scaler to disk\n",
    "with open(r'BayesFinal\\Bayes_model.pkl', 'wb') as file:\n",
    "    pickle.dump(Bayes, file)  # Save the trained KNN model\n",
    "\n",
    "\n",
    "with open(r'BayesFinal\\Bayes_Scaler.pkl', 'wb') as file:\n",
    "    pickle.dump(scaler_standard, file)  # Save the scaler used for standardization\n"
   ]
  }
 ],
 "metadata": {
  "kernelspec": {
   "display_name": "Python 3",
   "language": "python",
   "name": "python3"
  },
  "language_info": {
   "codemirror_mode": {
    "name": "ipython",
    "version": 3
   },
   "file_extension": ".py",
   "mimetype": "text/x-python",
   "name": "python",
   "nbconvert_exporter": "python",
   "pygments_lexer": "ipython3",
   "version": "3.12.9"
  }
 },
 "nbformat": 4,
 "nbformat_minor": 5
}
